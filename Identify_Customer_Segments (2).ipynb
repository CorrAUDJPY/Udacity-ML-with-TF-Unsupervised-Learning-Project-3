{
 "cells": [
  {
   "cell_type": "markdown",
   "metadata": {},
   "source": [
    "# Project: Identify Customer Segments\n",
    "\n",
    "In this project, you will apply unsupervised learning techniques to identify segments of the population that form the core customer base for a mail-order sales company in Germany. These segments can then be used to direct marketing campaigns towards audiences that will have the highest expected rate of returns. The data that you will use has been provided by our partners at Bertelsmann Arvato Analytics, and represents a real-life data science task.\n",
    "\n",
    "This notebook will help you complete this task by providing a framework within which you will perform your analysis steps. In each step of the project, you will see some text describing the subtask that you will perform, followed by one or more code cells for you to complete your work. **Feel free to add additional code and markdown cells as you go along so that you can explore everything in precise chunks.** The code cells provided in the base template will outline only the major tasks, and will usually not be enough to cover all of the minor tasks that comprise it.\n",
    "\n",
    "It should be noted that while there will be precise guidelines on how you should handle certain tasks in the project, there will also be places where an exact specification is not provided. **There will be times in the project where you will need to make and justify your own decisions on how to treat the data.** These are places where there may not be only one way to handle the data. In real-life tasks, there may be many valid ways to approach an analysis task. One of the most important things you can do is clearly document your approach so that other scientists can understand the decisions you've made.\n",
    "\n",
    "At the end of most sections, there will be a Markdown cell labeled **Discussion**. In these cells, you will report your findings for the completed section, as well as document the decisions that you made in your approach to each subtask. **Your project will be evaluated not just on the code used to complete the tasks outlined, but also your communication about your observations and conclusions at each stage.**"
   ]
  },
  {
   "cell_type": "code",
   "execution_count": 230,
   "metadata": {},
   "outputs": [],
   "source": [
    "# import libraries here; add more as necessary\n",
    "import numpy as np\n",
    "import pandas as pd\n",
    "import matplotlib.pyplot as plt\n",
    "import seaborn as sns\n",
    "\n",
    "# magic word for producing visualizations in notebook\n",
    "%matplotlib inline\n",
    "\n",
    "from sklearn.preprocessing import OneHotEncoder,StandardScaler\n",
    "from sklearn.decomposition import PCA\n",
    "from sklearn.cluster import KMeans\n",
    " \n"
   ]
  },
  {
   "cell_type": "markdown",
   "metadata": {},
   "source": [
    "### Step 0: Load the Data\n",
    "\n",
    "There are four files associated with this project (not including this one):\n",
    "\n",
    "- `Udacity_AZDIAS_Subset.csv`: Demographics data for the general population of Germany; 891211 persons (rows) x 85 features (columns).\n",
    "- `Udacity_CUSTOMERS_Subset.csv`: Demographics data for customers of a mail-order company; 191652 persons (rows) x 85 features (columns).\n",
    "- `Data_Dictionary.md`: Detailed information file about the features in the provided datasets.\n",
    "- `AZDIAS_Feature_Summary.csv`: Summary of feature attributes for demographics data; 85 features (rows) x 4 columns\n",
    "\n",
    "Each row of the demographics files represents a single person, but also includes information outside of individuals, including information about their household, building, and neighborhood. You will use this information to cluster the general population into groups with similar demographic properties. Then, you will see how the people in the customers dataset fit into those created clusters. The hope here is that certain clusters are over-represented in the customers data, as compared to the general population; those over-represented clusters will be assumed to be part of the core userbase. This information can then be used for further applications, such as targeting for a marketing campaign.\n",
    "\n",
    "To start off with, load in the demographics data for the general population into a pandas DataFrame, and do the same for the feature attributes summary. Note for all of the `.csv` data files in this project: they're semicolon (`;`) delimited, so you'll need an additional argument in your [`read_csv()`](https://pandas.pydata.org/pandas-docs/stable/generated/pandas.read_csv.html) call to read in the data properly. Also, considering the size of the main dataset, it may take some time for it to load completely.\n",
    "\n",
    "Once the dataset is loaded, it's recommended that you take a little bit of time just browsing the general structure of the dataset and feature summary file. You'll be getting deep into the innards of the cleaning in the first major step of the project, so gaining some general familiarity can help you get your bearings."
   ]
  },
  {
   "cell_type": "code",
   "execution_count": 231,
   "metadata": {},
   "outputs": [],
   "source": [
    "# Load in the general demographics data.\n",
    "azdias = pd.read_csv('Udacity_AZDIAS_Subset.csv' , delimiter=';')\n",
    "\n",
    "# Load in the feature summary file.\n",
    "feat_info = pd.read_csv('AZDIAS_Feature_Summary.csv' , delimiter=';')"
   ]
  },
  {
   "cell_type": "code",
   "execution_count": 232,
   "metadata": {},
   "outputs": [
    {
     "name": "stdout",
     "output_type": "stream",
     "text": [
      "Cust File: Total Num Obs: 75753785  Num Rows: 891221  Num Cols: 85\n",
      "Pandas can identify at inception 4896838 missing values.This is 6.46% of total obs\n"
     ]
    }
   ],
   "source": [
    "#### Have a first look at the data\n",
    "num_of_columns=azdias.shape[1]\n",
    "num_of_rows=azdias.shape[0]\n",
    "total_obs=azdias.size\n",
    "print('Cust File: Total Num Obs:' ,total_obs, ' Num Rows:', num_of_rows,' Num Cols:', num_of_columns)\n",
    "\n",
    "#Find number fo NaNs before special pre-processing\n",
    "total_nan_initial_count=azdias.isna().sum().sum()\n",
    "initial_ratio_of_nan_to_total_obs=total_nan_initial_count/total_obs\n",
    "\n",
    "print('Pandas can identify at inception {} missing values.This is {:02.2f}% of total obs'.format(total_nan_initial_count,initial_ratio_of_nan_to_total_obs*100))\n"
   ]
  },
  {
   "cell_type": "markdown",
   "metadata": {},
   "source": [
    "> **Tip**: Add additional cells to keep everything in reasonably-sized chunks! Keyboard shortcut `esc --> a` (press escape to enter command mode, then press the 'A' key) adds a new cell before the active cell, and `esc --> b` adds a new cell after the active cell. If you need to convert an active cell to a markdown cell, use `esc --> m` and to convert to a code cell, use `esc --> y`. \n",
    "\n",
    "## Step 1: Preprocessing\n",
    "\n",
    "### Step 1.1: Assess Missing Data\n",
    "\n",
    "The feature summary file contains a summary of properties for each demographics data column. \n",
    "You will use this file to help you make cleaning decisions during this stage of the project. \n",
    "First of all, you should assess the demographics data in terms of missing data. \n",
    "Pay attention to the following points as you perform your analysis, and take notes on what you observe. \n",
    "Make sure that you fill in the **Discussion** cell with your findings and decisions at the end of each step that has one!\n",
    "\n",
    "#### Step 1.1.1: Convert Missing Value Codes to NaNs\n",
    "The *fourth column* of the feature attributes summary (loaded in above as `feat_info`) documents the codes from the data dictionary that indicate missing or unknown data.  \n",
    "While the file encodes this as a list (e.g. `[-1,0]`), this will get read in as a *string* object.  \n",
    "You'll need to do a little bit of parsing to make use of it to identify and clean the data.  \n",
    "Convert data that matches a **'missing' or 'unknown'** value code into a numpy **NaN** value.  \n",
    "You might want to see how much data takes on a 'missing' or 'unknown' code, and how much data is naturally missing, as a point of interest.\n",
    "\n",
    "**As one more reminder, you are encouraged to add additional cells to break up your analysis into manageable chunks.**"
   ]
  },
  {
   "cell_type": "markdown",
   "metadata": {},
   "source": [
    "**The code below has been based on the response of one of the Udacity mentors to my question on the topic!!!!!!!!**\n",
    "https://towardsdatascience.com/all-about-categorical-variable-encoding-305f3361fd02\n",
    "https://towardsdatascience.com/encoding-categorical-variables-in-machine-learning-5644a43c123f\n",
    "\n",
    "I created a function convert_features_info_string_to_list(s) below to re-use it \n",
    "The function is based on the response of one of the Udacity mentors\n",
    "https://knowledge.udacity.com/questions/334122"
   ]
  },
  {
   "cell_type": "code",
   "execution_count": 233,
   "metadata": {},
   "outputs": [],
   "source": [
    "# read string s, and return a list of integers with the encodings of mising values\n",
    "def convert_features_info_string_to_list(s):\n",
    "    '''\n",
    "    Reads in string s\n",
    "    Returns a list containing integers (if it can)\n",
    "       or strings, if it can't .  i.e. if it reads in 'X', it cannot convert the 'X'\n",
    "        '''\n",
    "    new_list=[]\n",
    "    s_clean=s.strip('[]').split(',')\n",
    "    # The below line removes the '[]' and splits on ',', creating a list of strings\n",
    "   \n",
    "    for i in s_clean:\n",
    "        try:\n",
    "            new_list.append( int(i) )\n",
    "        except:\n",
    "                new_list.append( i )\n",
    "    \n",
    "    return( new_list )"
   ]
  },
  {
   "cell_type": "code",
   "execution_count": 234,
   "metadata": {},
   "outputs": [],
   "source": [
    "#Applying the function\n",
    "#we feed each string of the 4th column, one at a time to _convert_features_info_string_to_list_ function\n",
    "#  and receive back a list\n",
    "    \n",
    "feat_info['NA_tags'] = feat_info['missing_or_unknown'].apply(convert_features_info_string_to_list)\n"
   ]
  },
  {
   "cell_type": "code",
   "execution_count": 235,
   "metadata": {},
   "outputs": [
    {
     "data": {
      "text/plain": [
       "0       [-1, 0]\n",
       "1    [-1, 0, 9]\n",
       "2       [-1, 0]\n",
       "3           [0]\n",
       "Name: NA_tags, dtype: object"
      ]
     },
     "execution_count": 235,
     "metadata": {},
     "output_type": "execute_result"
    }
   ],
   "source": [
    "#check if we succesfully converted those entries into lists\n",
    "feat_info['NA_tags'].head(4)"
   ]
  },
  {
   "cell_type": "markdown",
   "metadata": {},
   "source": [
    "Let's insert NA values into our DataFrame if they are tagged as NA in the \"NA_tags\" column.\n"
   ]
  },
  {
   "cell_type": "code",
   "execution_count": 236,
   "metadata": {
    "scrolled": false
   },
   "outputs": [],
   "source": [
    "# Using a nearly identical copy of the feat_info DF with the attributes as the index\n",
    "att_index = feat_info.set_index('attribute')\n"
   ]
  },
  {
   "cell_type": "code",
   "execution_count": 237,
   "metadata": {},
   "outputs": [],
   "source": [
    "# Create a copy of the demographics data to work with to be the version with NA's inserted\n",
    "#This is what we will use for our analysis down the road\n",
    "na_azdias = azdias[:]"
   ]
  },
  {
   "cell_type": "markdown",
   "metadata": {},
   "source": [
    "**Replace it inplace with np.Nan**  \n",
    "Below we can look through each column, using the att_index DataFrame as a reference to encode our NA values.   \n",
    "We needed the features to be the index of the dataframe in order to use .loc to retrieve each column's respective list of NA codes. \n",
    "So, we Loop through our column names    \n",
    "For every column in our DF,   \n",
    "    ..... if a value is in the 'NA_tags' list,  \n",
    "         ........we REPLACE it inplace with np.NaN\n"
   ]
  },
  {
   "cell_type": "code",
   "execution_count": 238,
   "metadata": {},
   "outputs": [
    {
     "name": "stderr",
     "output_type": "stream",
     "text": [
      "/opt/conda/lib/python3.6/site-packages/pandas/core/generic.py:5890: SettingWithCopyWarning: \n",
      "A value is trying to be set on a copy of a slice from a DataFrame\n",
      "\n",
      "See the caveats in the documentation: http://pandas.pydata.org/pandas-docs/stable/indexing.html#indexing-view-versus-copy\n",
      "  self._update_inplace(new_data)\n"
     ]
    }
   ],
   "source": [
    "#creadte new AZDIAS with the enriched 'nan' info\n",
    "na_azdias=azdias[:]\n",
    "\n",
    "for column in na_azdias.columns:\n",
    "    #print('in column {}, replace {} with Nan'.format(  column , att_index.loc[column].loc['NA_tags']  )  )\n",
    "    na_azdias[column].replace( att_index.loc[column].loc['NA_tags'], np.nan, inplace=True)\n",
    "    "
   ]
  },
  {
   "cell_type": "code",
   "execution_count": 239,
   "metadata": {},
   "outputs": [
    {
     "name": "stdout",
     "output_type": "stream",
     "text": [
      "Total NaNs before pre-processing step:6742820, after pre-processing8373929:\n"
     ]
    }
   ],
   "source": [
    "#  Find number fo NaNs before special pre-processing\n",
    "total_nan_after_before_processing=azdias.isna().sum().sum()\n",
    "total_nan_after_pre_processing=na_azdias.isna().sum().sum()\n",
    "\n",
    "print('Total NaNs before pre-processing step:{}, after pre-processing{}:'.format(total_nan_after_before_processing,\n",
    "      total_nan_after_pre_processing)  )"
   ]
  },
  {
   "cell_type": "markdown",
   "metadata": {},
   "source": [
    "#### Step 1.1.2: Assess Missing Data in Each Column\n",
    "How much missing data is present in each column? \n",
    "There are a few columns that are outliers in terms of the proportion of values that are missing. \n",
    "You will want to use matplotlib's [`hist()`](https://matplotlib.org/api/_as_gen/matplotlib.pyplot.hist.html) function to visualize the distribution of missing value counts to find these columns.\n",
    "\n",
    "Identify and document these columns. \n",
    "While some of these columns might have justifications for keeping or re-encoding the data, for this project you should just remove them from the dataframe. \n",
    "\n",
    "(Feel free to make remarks about these outlier columns in the discussion, however!)\n",
    "\n",
    "For the remaining features, are there any patterns in which columns have, or share, missing data?"
   ]
  },
  {
   "cell_type": "code",
   "execution_count": 240,
   "metadata": {},
   "outputs": [
    {
     "name": "stderr",
     "output_type": "stream",
     "text": [
      "/opt/conda/lib/python3.6/site-packages/ipykernel_launcher.py:8: SettingWithCopyWarning: \n",
      "A value is trying to be set on a copy of a slice from a DataFrame\n",
      "\n",
      "See the caveats in the documentation: http://pandas.pydata.org/pandas-docs/stable/indexing.html#indexing-view-versus-copy\n",
      "  \n"
     ]
    },
    {
     "data": {
      "text/html": [
       "<div>\n",
       "<style scoped>\n",
       "    .dataframe tbody tr th:only-of-type {\n",
       "        vertical-align: middle;\n",
       "    }\n",
       "\n",
       "    .dataframe tbody tr th {\n",
       "        vertical-align: top;\n",
       "    }\n",
       "\n",
       "    .dataframe thead th {\n",
       "        text-align: right;\n",
       "    }\n",
       "</style>\n",
       "<table border=\"1\" class=\"dataframe\">\n",
       "  <thead>\n",
       "    <tr style=\"text-align: right;\">\n",
       "      <th></th>\n",
       "      <th>index</th>\n",
       "      <th>0</th>\n",
       "    </tr>\n",
       "  </thead>\n",
       "  <tbody>\n",
       "    <tr>\n",
       "      <th>40</th>\n",
       "      <td>TITEL_KZ</td>\n",
       "      <td>889061</td>\n",
       "    </tr>\n",
       "    <tr>\n",
       "      <th>0</th>\n",
       "      <td>AGER_TYP</td>\n",
       "      <td>685843</td>\n",
       "    </tr>\n",
       "    <tr>\n",
       "      <th>47</th>\n",
       "      <td>KK_KUNDENTYP</td>\n",
       "      <td>584612</td>\n",
       "    </tr>\n",
       "    <tr>\n",
       "      <th>64</th>\n",
       "      <td>KBA05_BAUMAX</td>\n",
       "      <td>476524</td>\n",
       "    </tr>\n",
       "    <tr>\n",
       "      <th>11</th>\n",
       "      <td>GEBURTSJAHR</td>\n",
       "      <td>392318</td>\n",
       "    </tr>\n",
       "    <tr>\n",
       "      <th>43</th>\n",
       "      <td>ALTER_HH</td>\n",
       "      <td>310267</td>\n",
       "    </tr>\n",
       "    <tr>\n",
       "      <th>70</th>\n",
       "      <td>KKK</td>\n",
       "      <td>158064</td>\n",
       "    </tr>\n",
       "    <tr>\n",
       "      <th>73</th>\n",
       "      <td>REGIOTYP</td>\n",
       "      <td>158064</td>\n",
       "    </tr>\n",
       "    <tr>\n",
       "      <th>48</th>\n",
       "      <td>W_KEIT_KIND_HH</td>\n",
       "      <td>147988</td>\n",
       "    </tr>\n",
       "    <tr>\n",
       "      <th>60</th>\n",
       "      <td>KBA05_ANTG1</td>\n",
       "      <td>133324</td>\n",
       "    </tr>\n",
       "  </tbody>\n",
       "</table>\n",
       "</div>"
      ],
      "text/plain": [
       "             index       0\n",
       "40        TITEL_KZ  889061\n",
       "0         AGER_TYP  685843\n",
       "47    KK_KUNDENTYP  584612\n",
       "64    KBA05_BAUMAX  476524\n",
       "11     GEBURTSJAHR  392318\n",
       "43        ALTER_HH  310267\n",
       "70             KKK  158064\n",
       "73        REGIOTYP  158064\n",
       "48  W_KEIT_KIND_HH  147988\n",
       "60     KBA05_ANTG1  133324"
      ]
     },
     "execution_count": 240,
     "metadata": {},
     "output_type": "execute_result"
    }
   ],
   "source": [
    "# Investigate patterns in the amount of missing data in each column.\n",
    "# Creating a copy of the DF containing the counts of NAs with the names of the columns in the original DF as a column\n",
    "azdias_num_of_nas = na_azdias.isna().sum().reset_index()\n",
    "azdias_num_of_nas.sort_values(by=0, ascending=False,inplace=True)\n",
    "\n",
    "# Filtering for only columns with more than 50000 NA values to declutter the plot\n",
    "cols_with_50k_nas = azdias_num_of_nas[azdias_num_of_nas[0]>50000]\n",
    "cols_with_50k_nas.sort_values(by=0,ascending=True,inplace=True)\n",
    "\n",
    "azdias_num_of_nas.head(10)"
   ]
  },
  {
   "cell_type": "code",
   "execution_count": 241,
   "metadata": {},
   "outputs": [
    {
     "data": {
      "image/png": "[encoded data removed]",
      "text/plain": [
       "<matplotlib.figure.Figure at 0x7f9e0dd99630>"
      ]
     },
     "metadata": {
      "needs_background": "light"
     },
     "output_type": "display_data"
    }
   ],
   "source": [
    "plt.figure(figsize=(6,12))\n",
    "barh = plt.barh(cols_with_50k_nas['index'],cols_with_50k_nas[0],color = 'darkturquoise', alpha = 0.85)\n",
    "\n",
    "for i in range(7):    \n",
    "    barh[-i].set_color('darkred')\n",
    "plt.tight_layout()\n"
   ]
  },
  {
   "cell_type": "code",
   "execution_count": 242,
   "metadata": {},
   "outputs": [
    {
     "name": "stderr",
     "output_type": "stream",
     "text": [
      "/opt/conda/lib/python3.6/site-packages/pandas/core/frame.py:3697: SettingWithCopyWarning: \n",
      "A value is trying to be set on a copy of a slice from a DataFrame\n",
      "\n",
      "See the caveats in the documentation: http://pandas.pydata.org/pandas-docs/stable/indexing.html#indexing-view-versus-copy\n",
      "  errors=errors)\n"
     ]
    },
    {
     "name": "stdout",
     "output_type": "stream",
     "text": [
      "After we remove Cols with too many NAs, we are left with :  5035304\n"
     ]
    }
   ],
   "source": [
    "# Remove the outlier columns from the dataset. (You'll perform other data\n",
    "# engineering tasks such as re-encoding and imputation later.)\n",
    "\n",
    "remove_columns = ['KBA05_BAUMAX','KK_KUNDENTYP','ALTER_HH','TITEL_KZ','GEBURTSJAHR','AGER_TYP']\n",
    "\n",
    "na_azdias.drop(labels=remove_columns,axis=1,inplace=True)\n",
    "\n",
    "#removed these 6 columns that we dropped from the feat_info df, to avoid errors later in the analysis\n",
    "feat_info = feat_info.set_index('attribute').drop( remove_columns ).reset_index()\n",
    "nan_left_after_rem_topnan_cols=na_azdias.isna().sum().sum()\n",
    "print('After we remove Cols with too many NAs, we are left with : ' ,  nan_left_after_rem_topnan_cols )\n",
    "\n"
   ]
  },
  {
   "cell_type": "markdown",
   "metadata": {},
   "source": [
    "#### Discussion 1.1.2: Assess Missing Data in Each Column\n",
    "\n",
    "1.  Prior to performing ny data specific pre-processing, the pandas .isna() method recognized **4,896,838** NAs.\n",
    "2. After we explicitly encoded NAs using the feat_info['missing_or_unknown'] we got  8,373,929 NAs.\n",
    "\n",
    "Then we created a barchart of the Number of NAs per column.  the following columns topped the NAs list\n",
    "['KBA05_BAUMAX','KK_KUNDENTYP','ALTER_HH','TITEL_KZ','GEBURTSJAHR','AGER_TYP']\n",
    "\n",
    "3. Then we dropped the 6 columns with the biggest number of NAs, we were left with  5,035,304 NAs.\n",
    "\n",
    "4. Finally we removed these 6 columns that we dropped from the feat_info df, to avoid errors later in the analysis\n"
   ]
  },
  {
   "cell_type": "markdown",
   "metadata": {},
   "source": [
    "#### Step 1.1.3: Assess Missing Data in Each Row\n",
    "\n",
    "Now, you'll perform a similar assessment for the rows of the dataset. How much data is missing in each row? As with the columns, you should see some groups of points that have a very different numbers of missing values.  \n",
    "Divide the data into **two subsets**: \n",
    "    - one for data points that are **above** some threshold for missing values, and \n",
    "    - a second subset for points **below** that threshold.\n",
    "\n",
    "In order to know what to do with the outlier rows, we should see if the distribution of data values on columns that are not missing data (or are missing very little data) are similar or different between the two groups. Select at least five of these columns and compare the distribution of values.\n",
    "- You can use **seaborn's [`countplot()`](https://seaborn.pydata.org/generated/seaborn.countplot.html)**function to create a bar chart of code frequencies and matplotlib's [`subplot()`](https://matplotlib.org/api/_as_gen/matplotlib.pyplot.subplot.html) function to put bar charts for the two subplots side by side.\n",
    "- To reduce repeated code, you might want to write a function that can perform this comparison, taking as one of its arguments a column to be compared.\n",
    "\n",
    "Depending on what you observe in your comparison, this will have implications on how you approach your conclusions later in the analysis. If the distributions of non-missing features look similar between the data with many missing values and the data with few or no missing values, then we could argue that simply dropping those points from the analysis won't present a major issue. On the other hand, if the data with many missing values looks very different from the data with few or no missing values, then we should make a note on those data as special. We'll revisit these data later on. **Either way, you should continue your analysis for now using just the subset of the data with few or no missing values.**"
   ]
  },
  {
   "cell_type": "code",
   "execution_count": 243,
   "metadata": {},
   "outputs": [
    {
     "name": "stderr",
     "output_type": "stream",
     "text": [
      "/opt/conda/lib/python3.6/site-packages/ipykernel_launcher.py:3: SettingWithCopyWarning: \n",
      "A value is trying to be set on a copy of a slice from a DataFrame.\n",
      "Try using .loc[row_indexer,col_indexer] = value instead\n",
      "\n",
      "See the caveats in the documentation: http://pandas.pydata.org/pandas-docs/stable/indexing.html#indexing-view-versus-copy\n",
      "  This is separate from the ipykernel package so we can avoid doing imports until\n"
     ]
    }
   ],
   "source": [
    "# How much data is missing in each row of the dataset?\n",
    "# we add a row to store the number of NAs per each row\n",
    "na_azdias['num_of_nas_byrow'] = na_azdias.isna().sum(axis=1)\n"
   ]
  },
  {
   "cell_type": "markdown",
   "metadata": {},
   "source": [
    "we plot the counts of NAs in the various rows"
   ]
  },
  {
   "cell_type": "code",
   "execution_count": 244,
   "metadata": {},
   "outputs": [
    {
     "data": {
      "text/plain": [
       "(array([ 96415.,  60529.,  12134.,   5139.,    480.,    155.,  14016.,\n",
       "          5031.,  28038.,  46075.]),\n",
       " array([  1. ,   5.8,  10.6,  15.4,  20.2,  25. ,  29.8,  34.6,  39.4,\n",
       "         44.2,  49. ]),\n",
       " <a list of 10 Patch objects>)"
      ]
     },
     "execution_count": 244,
     "metadata": {},
     "output_type": "execute_result"
    },
    {
     "data": {
      "image/png": "[encoded data removed]",
      "text/plain": [
       "<matplotlib.figure.Figure at 0x7f9e0dfb24e0>"
      ]
     },
     "metadata": {
      "needs_background": "light"
     },
     "output_type": "display_data"
    }
   ],
   "source": [
    "azdias_rows_with_nans=na_azdias[na_azdias['num_of_nas_byrow']>0]\n",
    "plt.hist(  azdias_rows_with_nans['num_of_nas_byrow'] , bins=10)"
   ]
  },
  {
   "cell_type": "markdown",
   "metadata": {},
   "source": [
    "We notice a bi-modal NAs distribution.\n",
    "with 30 NAs dividing the two modes"
   ]
  },
  {
   "cell_type": "code",
   "execution_count": 245,
   "metadata": {},
   "outputs": [
    {
     "data": {
      "text/html": [
       "<div>\n",
       "<style scoped>\n",
       "    .dataframe tbody tr th:only-of-type {\n",
       "        vertical-align: middle;\n",
       "    }\n",
       "\n",
       "    .dataframe tbody tr th {\n",
       "        vertical-align: top;\n",
       "    }\n",
       "\n",
       "    .dataframe thead th {\n",
       "        text-align: right;\n",
       "    }\n",
       "</style>\n",
       "<table border=\"1\" class=\"dataframe\">\n",
       "  <thead>\n",
       "    <tr style=\"text-align: right;\">\n",
       "      <th></th>\n",
       "      <th>ALTERSKATEGORIE_GROB</th>\n",
       "      <th>ANREDE_KZ</th>\n",
       "      <th>CJT_GESAMTTYP</th>\n",
       "      <th>FINANZ_MINIMALIST</th>\n",
       "      <th>FINANZ_SPARER</th>\n",
       "      <th>FINANZ_VORSORGER</th>\n",
       "      <th>FINANZ_ANLEGER</th>\n",
       "      <th>FINANZ_UNAUFFAELLIGER</th>\n",
       "      <th>FINANZ_HAUSBAUER</th>\n",
       "      <th>FINANZTYP</th>\n",
       "      <th>...</th>\n",
       "      <th>PLZ8_ANTG2</th>\n",
       "      <th>PLZ8_ANTG3</th>\n",
       "      <th>PLZ8_ANTG4</th>\n",
       "      <th>PLZ8_BAUMAX</th>\n",
       "      <th>PLZ8_HHZ</th>\n",
       "      <th>PLZ8_GBZ</th>\n",
       "      <th>ARBEIT</th>\n",
       "      <th>ORTSGR_KLS9</th>\n",
       "      <th>RELAT_AB</th>\n",
       "      <th>num_of_nas_byrow</th>\n",
       "    </tr>\n",
       "  </thead>\n",
       "  <tbody>\n",
       "    <tr>\n",
       "      <th>3</th>\n",
       "      <td>4.0</td>\n",
       "      <td>2</td>\n",
       "      <td>2.0</td>\n",
       "      <td>4</td>\n",
       "      <td>2</td>\n",
       "      <td>5</td>\n",
       "      <td>2</td>\n",
       "      <td>1</td>\n",
       "      <td>2</td>\n",
       "      <td>6</td>\n",
       "      <td>...</td>\n",
       "      <td>2.0</td>\n",
       "      <td>2.0</td>\n",
       "      <td>0.0</td>\n",
       "      <td>1.0</td>\n",
       "      <td>3.0</td>\n",
       "      <td>4.0</td>\n",
       "      <td>2.0</td>\n",
       "      <td>3.0</td>\n",
       "      <td>3.0</td>\n",
       "      <td>7</td>\n",
       "    </tr>\n",
       "    <tr>\n",
       "      <th>12</th>\n",
       "      <td>3.0</td>\n",
       "      <td>1</td>\n",
       "      <td>6.0</td>\n",
       "      <td>5</td>\n",
       "      <td>3</td>\n",
       "      <td>4</td>\n",
       "      <td>2</td>\n",
       "      <td>4</td>\n",
       "      <td>1</td>\n",
       "      <td>3</td>\n",
       "      <td>...</td>\n",
       "      <td>3.0</td>\n",
       "      <td>1.0</td>\n",
       "      <td>0.0</td>\n",
       "      <td>1.0</td>\n",
       "      <td>5.0</td>\n",
       "      <td>5.0</td>\n",
       "      <td>3.0</td>\n",
       "      <td>6.0</td>\n",
       "      <td>4.0</td>\n",
       "      <td>6</td>\n",
       "    </tr>\n",
       "    <tr>\n",
       "      <th>13</th>\n",
       "      <td>1.0</td>\n",
       "      <td>2</td>\n",
       "      <td>5.0</td>\n",
       "      <td>1</td>\n",
       "      <td>4</td>\n",
       "      <td>3</td>\n",
       "      <td>5</td>\n",
       "      <td>5</td>\n",
       "      <td>2</td>\n",
       "      <td>1</td>\n",
       "      <td>...</td>\n",
       "      <td>1.0</td>\n",
       "      <td>1.0</td>\n",
       "      <td>1.0</td>\n",
       "      <td>1.0</td>\n",
       "      <td>3.0</td>\n",
       "      <td>3.0</td>\n",
       "      <td>3.0</td>\n",
       "      <td>6.0</td>\n",
       "      <td>4.0</td>\n",
       "      <td>8</td>\n",
       "    </tr>\n",
       "    <tr>\n",
       "      <th>15</th>\n",
       "      <td>4.0</td>\n",
       "      <td>2</td>\n",
       "      <td>4.0</td>\n",
       "      <td>4</td>\n",
       "      <td>1</td>\n",
       "      <td>5</td>\n",
       "      <td>1</td>\n",
       "      <td>1</td>\n",
       "      <td>4</td>\n",
       "      <td>2</td>\n",
       "      <td>...</td>\n",
       "      <td>NaN</td>\n",
       "      <td>NaN</td>\n",
       "      <td>NaN</td>\n",
       "      <td>NaN</td>\n",
       "      <td>NaN</td>\n",
       "      <td>NaN</td>\n",
       "      <td>4.0</td>\n",
       "      <td>8.0</td>\n",
       "      <td>5.0</td>\n",
       "      <td>8</td>\n",
       "    </tr>\n",
       "    <tr>\n",
       "      <th>16</th>\n",
       "      <td>1.0</td>\n",
       "      <td>2</td>\n",
       "      <td>1.0</td>\n",
       "      <td>4</td>\n",
       "      <td>3</td>\n",
       "      <td>1</td>\n",
       "      <td>4</td>\n",
       "      <td>5</td>\n",
       "      <td>1</td>\n",
       "      <td>3</td>\n",
       "      <td>...</td>\n",
       "      <td>3.0</td>\n",
       "      <td>1.0</td>\n",
       "      <td>0.0</td>\n",
       "      <td>1.0</td>\n",
       "      <td>3.0</td>\n",
       "      <td>4.0</td>\n",
       "      <td>1.0</td>\n",
       "      <td>2.0</td>\n",
       "      <td>1.0</td>\n",
       "      <td>6</td>\n",
       "    </tr>\n",
       "  </tbody>\n",
       "</table>\n",
       "<p>5 rows × 80 columns</p>\n",
       "</div>"
      ],
      "text/plain": [
       "    ALTERSKATEGORIE_GROB  ANREDE_KZ  CJT_GESAMTTYP  FINANZ_MINIMALIST  \\\n",
       "3                    4.0          2            2.0                  4   \n",
       "12                   3.0          1            6.0                  5   \n",
       "13                   1.0          2            5.0                  1   \n",
       "15                   4.0          2            4.0                  4   \n",
       "16                   1.0          2            1.0                  4   \n",
       "\n",
       "    FINANZ_SPARER  FINANZ_VORSORGER  FINANZ_ANLEGER  FINANZ_UNAUFFAELLIGER  \\\n",
       "3               2                 5               2                      1   \n",
       "12              3                 4               2                      4   \n",
       "13              4                 3               5                      5   \n",
       "15              1                 5               1                      1   \n",
       "16              3                 1               4                      5   \n",
       "\n",
       "    FINANZ_HAUSBAUER  FINANZTYP        ...         PLZ8_ANTG2  PLZ8_ANTG3  \\\n",
       "3                  2          6        ...                2.0         2.0   \n",
       "12                 1          3        ...                3.0         1.0   \n",
       "13                 2          1        ...                1.0         1.0   \n",
       "15                 4          2        ...                NaN         NaN   \n",
       "16                 1          3        ...                3.0         1.0   \n",
       "\n",
       "    PLZ8_ANTG4  PLZ8_BAUMAX  PLZ8_HHZ  PLZ8_GBZ  ARBEIT  ORTSGR_KLS9  \\\n",
       "3          0.0          1.0       3.0       4.0     2.0          3.0   \n",
       "12         0.0          1.0       5.0       5.0     3.0          6.0   \n",
       "13         1.0          1.0       3.0       3.0     3.0          6.0   \n",
       "15         NaN          NaN       NaN       NaN     4.0          8.0   \n",
       "16         0.0          1.0       3.0       4.0     1.0          2.0   \n",
       "\n",
       "    RELAT_AB  num_of_nas_byrow  \n",
       "3        3.0                 7  \n",
       "12       4.0                 6  \n",
       "13       4.0                 8  \n",
       "15       5.0                 8  \n",
       "16       1.0                 6  \n",
       "\n",
       "[5 rows x 80 columns]"
      ]
     },
     "execution_count": 245,
     "metadata": {},
     "output_type": "execute_result"
    }
   ],
   "source": [
    "# Write code to divide the data into two subsets based on the number of missing\n",
    "# values in each row.\n",
    "azdias_less_than_30_nasperrow = na_azdias[  na_azdias['num_of_nas_byrow']<=30]\n",
    "azdias_more_than_30_nasperrow = na_azdias[na_azdias['num_of_nas_byrow']>30]\n",
    "\n",
    "#since i expect many rows to have 0 NAs, i will make this a seperate category\n",
    "azdias_with_1to30_nasperrow = na_azdias[  (na_azdias['num_of_nas_byrow'] >0) & (na_azdias['num_of_nas_byrow'] <=30) ]\n",
    "azdias_with_1to30_nasperrow.head()"
   ]
  },
  {
   "cell_type": "code",
   "execution_count": 246,
   "metadata": {},
   "outputs": [],
   "source": [
    "# Compare the distribution of values for at least five columns where there are\n",
    "# no or few missing values, between the two subsets.\n",
    "def plot_sideby_side(df1,df2,col_name,title1,title2):\n",
    "    \n",
    "    fig,(ax1,ax2) = plt.subplots(1,2, figsize=(10,5))\n",
    "    sns.countplot(df1[col_name], ax=ax1)\n",
    "    sns.countplot(df2[col_name], ax=ax2)\n",
    "    ax1.set_title(title1)\n",
    "    ax2.set_title(title2)\n"
   ]
  },
  {
   "cell_type": "code",
   "execution_count": 247,
   "metadata": {},
   "outputs": [
    {
     "data": {
      "image/png": "[encoded data removed]",
      "text/plain": [
       "<matplotlib.figure.Figure at 0x7f9e0dde5fd0>"
      ]
     },
     "metadata": {
      "needs_background": "light"
     },
     "output_type": "display_data"
    }
   ],
   "source": [
    "# call the function\n",
    "plot_sideby_side(  df1=azdias_with_1to30_nasperrow,  df2=azdias_more_than_30_nasperrow ,  col_name='num_of_nas_byrow',title1='Rows with # NAs <30]',title2='Rows with #NAs for >30')"
   ]
  },
  {
   "cell_type": "markdown",
   "metadata": {},
   "source": [
    "######Decide to keep the row with ZERO missing values"
   ]
  },
  {
   "cell_type": "code",
   "execution_count": 248,
   "metadata": {},
   "outputs": [
    {
     "name": "stdout",
     "output_type": "stream",
     "text": [
      "total rows: 891221\n",
      "Total rows with non-zero missing values 268012\n",
      "Total rows with zero missing values 623209\n",
      "% rows with zero missing values 0.6992754883468859\n"
     ]
    }
   ],
   "source": [
    "num_of_rows_with_nas=na_azdias[  na_azdias['num_of_nas_byrow']>0  ].shape[0]\n",
    "num_of_rows_with_0_nas=na_azdias[  na_azdias['num_of_nas_byrow']==0  ].shape[0]\n",
    "total_rows=num_of_rows_with_nas+num_of_rows_with_0_nas\n",
    "\n",
    "ratio_of_rows_with_zero_nan=num_of_rows_with_0_nas/total_rows\n",
    "\n",
    "print('total rows:',num_of_rows_with_0_nas+num_of_rows_with_nas)\n",
    "print('Total rows with non-zero missing values',num_of_rows_with_nas)\n",
    "print('Total rows with zero missing values',num_of_rows_with_0_nas)\n",
    "print('% rows with zero missing values',ratio_of_rows_with_zero_nan)\n"
   ]
  },
  {
   "cell_type": "markdown",
   "metadata": {},
   "source": [
    "#### Discussion 1.1.3: Assess Missing Data in Each Row\n",
    "(Double-click this cell and replace this text with your own text, reporting your observations regarding missing data in rows. Are the data with lots of missing values are qualitatively different from data with few or no missing values?)\n",
    "\n",
    "1. After we plotted the distribution of '# of NAs by row',  we notice a bi-modal NAs distribution, with the 2 modes seperating around 30.\n",
    "2.For the 'low number of NAs part of the dist'n, we see that most have 0 NAs\n",
    "3. For this reason i also plot the dist'n of points that are strictly above 1 and below 30\n",
    "4. It is surprising to see how many rows have 47 NAs (same for 43 NAs).\n",
    "\n",
    "There are 891,221 rows in total\n",
    "There are 268012 rows with any missing values, and 623209 rows with zero missing values.\n",
    "Thats 70% of rows have no missing values.\n",
    "#### 5. Going forward I will DROP ALL ROWS with ANY missing values\n"
   ]
  },
  {
   "cell_type": "code",
   "execution_count": 249,
   "metadata": {},
   "outputs": [
    {
     "name": "stderr",
     "output_type": "stream",
     "text": [
      "/opt/conda/lib/python3.6/site-packages/pandas/core/frame.py:3697: SettingWithCopyWarning: \n",
      "A value is trying to be set on a copy of a slice from a DataFrame\n",
      "\n",
      "See the caveats in the documentation: http://pandas.pydata.org/pandas-docs/stable/indexing.html#indexing-view-versus-copy\n",
      "  errors=errors)\n"
     ]
    }
   ],
   "source": [
    "# this will be the data frame i will be using going forward\n",
    "azdias_working_df = na_azdias[  na_azdias['num_of_nas_byrow']==0  ]\n",
    "azdias_working_df.drop('num_of_nas_byrow', inplace=True, axis=1)\n"
   ]
  },
  {
   "cell_type": "markdown",
   "metadata": {},
   "source": [
    "### Step 1.2: Select and Re-Encode Features\n",
    "\n",
    "Checking for missing data isn't the only way in which you can prepare a dataset for analysis. Since the unsupervised learning techniques to be used will only work on data that is encoded numerically, you need to make a few encoding changes or additional assumptions to be able to make progress. In addition, while almost all of the values in the dataset are encoded using numbers, not all of them represent numeric values. Check the third column of the feature summary (`feat_info`) for a summary of types of measurement.\n",
    "- For numeric and interval data, these features can be kept without changes.\n",
    "- Most of the variables in the dataset are ordinal in nature. While ordinal values may technically be non-linear in spacing, make the simplifying assumption that the ordinal variables can be treated as being interval in nature (that is, kept without any changes).\n",
    "- **Special handling** may be necessary for the remaining two variable types: **categorical, and 'mixed'**.\n",
    "\n",
    "In the first two parts of this sub-step, you will perform an investigation of the categorical and mixed-type features and make a decision on each of them, whether you will keep, drop, or re-encode each. Then, in the last part, you will create a new data frame with only the selected and engineered columns.\n",
    "\n",
    "Data wrangling is often the trickiest part of the data analysis process, and there's a lot of it to be done here. But stick with it: once you're done with this step, you'll be ready to get to the machine learning parts of the project!"
   ]
  },
  {
   "cell_type": "code",
   "execution_count": 250,
   "metadata": {},
   "outputs": [
    {
     "data": {
      "text/plain": [
       "ordinal        49\n",
       "categorical    18\n",
       "mixed           6\n",
       "numeric         6\n",
       "Name: type, dtype: int64"
      ]
     },
     "execution_count": 250,
     "metadata": {},
     "output_type": "execute_result"
    }
   ],
   "source": [
    "# How many features are there of each data type?\n",
    "feat_info['type'].value_counts()"
   ]
  },
  {
   "cell_type": "markdown",
   "metadata": {},
   "source": [
    "lets make a list of which attributes below to each type of variable type\n",
    "We will make a dictionary to store them\n",
    "Of course we are mostly interested in 'mixed' and 'categorical' attributes"
   ]
  },
  {
   "cell_type": "code",
   "execution_count": 251,
   "metadata": {},
   "outputs": [],
   "source": [
    "azdias_datatype_of_features={}\n",
    "datatypes=['mixed','categorical','numeric','ordinal']\n",
    "\n",
    "for d in datatypes:\n",
    "    azdias_datatype_of_features[d]=feat_info[  feat_info['type']==d ]['attribute']"
   ]
  },
  {
   "cell_type": "markdown",
   "metadata": {},
   "source": [
    "#### Step 1.2.1: Re-Encode Categorical Features\n",
    "\n",
    "For categorical data, you would ordinarily need to encode the levels as dummy variables.  \n",
    "Depending on the number of categories, perform one of the following:\n",
    "- For binary (two-level) categoricals that take numeric values, you can keep them without needing to do anything.\n",
    "- There is one binary variable that takes on non-numeric values. For this one, you need to re-encode the values as numbers or create a dummy variable.\n",
    "- For multi-level categoricals (three or more values), you can choose to encode the values using multiple dummy variables (e.g. via [OneHotEncoder](http://scikit-learn.org/stable/modules/generated/sklearn.preprocessing.OneHotEncoder.html)), or (to keep things straightforward) just drop them from the analysis. As always, document your choices in the Discussion section."
   ]
  },
  {
   "cell_type": "code",
   "execution_count": 252,
   "metadata": {},
   "outputs": [
    {
     "name": "stdout",
     "output_type": "stream",
     "text": [
      "ANREDE_KZ [2 1] 2\n",
      "CJT_GESAMTTYP [ 5.  3.  2.  4.  1.  6.] 6\n",
      "FINANZTYP [1 5 2 4 6 3] 6\n",
      "GFK_URLAUBERTYP [ 10.   5.   1.  12.   9.   3.   8.  11.   4.   7.   6.   2.] 12\n",
      "GREEN_AVANTGARDE [0 1] 2\n",
      "LP_FAMILIE_FEIN [  5.   1.  10.   2.   7.  11.   8.   4.   6.   9.   3.] 11\n",
      "LP_FAMILIE_GROB [ 3.  1.  5.  2.  4.] 5\n",
      "LP_STATUS_FEIN [  2.   3.   4.   1.  10.   9.   5.   6.   7.   8.] 10\n",
      "LP_STATUS_GROB [ 1.  2.  5.  4.  3.] 5\n",
      "NATIONALITAET_KZ [ 1.  2.  3.] 3\n",
      "SHOPPER_TYP [ 3.  2.  0.  1.] 4\n",
      "SOHO_KZ [ 1.  0.] 2\n",
      "VERS_TYP [ 2.  1.] 2\n",
      "ZABEOTYP [5 4 1 6 3 2] 6\n",
      "GEBAEUDETYP [ 8.  1.  3.  5.] 4\n",
      "OST_WEST_KZ ['W' 'O'] 2\n",
      "CAMEO_DEUG_2015 ['8' '4' '6' '2' '1' '9' '5' '7' '3'] 9\n",
      "CAMEO_DEU_2015 ['8A' '4C' '6B' '8C' '4A' '2D' '1A' '1E' '9D' '5D' '9E' '9B' '1B' '8B' '7A'\n",
      " '3D' '4E' '3C' '5A' '7B' '9A' '6E' '6D' '2C' '5C' '9C' '7D' '5E' '1D' '8D'\n",
      " '6C' '5B' '7C' '4D' '3A' '2B' '7E' '4B' '2A' '3B' '6F' '5F' '1C' '6A'] 44\n"
     ]
    }
   ],
   "source": [
    "# Split the categorical features into (i) Binary, (ii) Multi-level\n",
    "#for some reason 'elif' would not work for me, so i had to split into 2 'if' statements\n",
    "categorical_cols_in_na_azdias=azdias_working_df[ azdias_datatype_of_features['categorical']]\n",
    "\n",
    "multi_level_categorical=[]\n",
    "binary_categorical=[]\n",
    "\n",
    "for column in categorical_cols_in_na_azdias.columns:\n",
    "        #get the current columns\n",
    "        curr_col=categorical_cols_in_na_azdias[column]\n",
    "        \n",
    "        #select and count the unique, non NA values\n",
    "        unique_values= curr_col[curr_col.notna()].unique()\n",
    "        count_unique_values= len( unique_values )\n",
    "        \n",
    "        if count_unique_values >2:\n",
    "            multi_level_categorical.append(column)\n",
    "        elif count_unique_values ==2:\n",
    "            binary_categorical.append(column)\n",
    "        \n",
    "        print( column,unique_values, count_unique_values )\n",
    "        "
   ]
  },
  {
   "cell_type": "code",
   "execution_count": 253,
   "metadata": {
    "scrolled": true
   },
   "outputs": [
    {
     "name": "stdout",
     "output_type": "stream",
     "text": [
      "1. The BINARY features are:\n",
      "ANREDE_KZ\n",
      "GREEN_AVANTGARDE\n",
      "SOHO_KZ\n",
      "VERS_TYP\n",
      "OST_WEST_KZ\n",
      "\n",
      " 1. The MULTI_LEVEL features are:\n",
      "CJT_GESAMTTYP\n",
      "FINANZTYP\n",
      "GFK_URLAUBERTYP\n",
      "LP_FAMILIE_FEIN\n",
      "LP_FAMILIE_GROB\n",
      "LP_STATUS_FEIN\n",
      "LP_STATUS_GROB\n",
      "NATIONALITAET_KZ\n",
      "SHOPPER_TYP\n",
      "ZABEOTYP\n",
      "GEBAEUDETYP\n",
      "CAMEO_DEUG_2015\n",
      "CAMEO_DEU_2015\n",
      "\n",
      " 1. The MIXED features are:\n",
      "LP_LEBENSPHASE_FEIN\n",
      "LP_LEBENSPHASE_GROB\n",
      "PRAEGENDE_JUGENDJAHRE\n",
      "WOHNLAGE\n",
      "CAMEO_INTL_2015\n",
      "PLZ8_BAUMAX\n"
     ]
    }
   ],
   "source": [
    "# Assess CATEGORICAL variables: which are binary, which are multi-level, and\n",
    "# which one needs to be re-encoded?\n",
    "\n",
    "# Display the BINARY features\n",
    "print('1. The BINARY features are:')\n",
    "for column in binary_categorical:\n",
    "    print(column) \n",
    "    #print(column, azdias_working_df[column].unique()  )\n",
    "\n",
    "# Display the MULTI_LEVEL features\n",
    "print('\\n', '1. The MULTI_LEVEL features are:')\n",
    "for column in multi_level_categorical:\n",
    "    print(column )\n",
    "    #print(column, azdias_working_df[column].unique()  )\n",
    "\n",
    "    # Display the MIXED features\n",
    "print('\\n', '1. The MIXED features are:')\n",
    "for column in azdias_datatype_of_features['mixed']:\n",
    "    #print(column, azdias_working_df[column].unique()  )\n",
    "    print(column )"
   ]
  },
  {
   "cell_type": "markdown",
   "metadata": {},
   "source": [
    "Before proceeding lets take a look at the features and see in what categories they fall:\n",
    "\n",
    "The MULTI_LEVEL features are:\n",
    "1. CJT_GESAMTTYP, SHOPPER_TYP,ZABEOTYP : All capture consumer behavior.  Will keep CJT_GESAMTTYP\n",
    "2. LP_FAMILIE_FEIN, LP_FAMILIE_GROB describe family.  Will drop the former \n",
    "3. LP_STATUS_FEIN, LP_STATUS_GROB : social status.Will drop both.\n",
    "4. FINANZTYP, GFK_URLAUBERTYP, CAMEO_DEUG_2015, CAMEO_DEU_2015: Decided to drop all of these b/c other feaures capture financial ablity\n",
    "5.NATIONALITAET_KZ:Nationality. will keep\n",
    "6.GEBAEUDETYP: Building type. Appears unintuitive. Will drop\n"
   ]
  },
  {
   "cell_type": "code",
   "execution_count": 254,
   "metadata": {},
   "outputs": [
    {
     "name": "stderr",
     "output_type": "stream",
     "text": [
      "/opt/conda/lib/python3.6/site-packages/pandas/core/frame.py:3697: SettingWithCopyWarning: \n",
      "A value is trying to be set on a copy of a slice from a DataFrame\n",
      "\n",
      "See the caveats in the documentation: http://pandas.pydata.org/pandas-docs/stable/indexing.html#indexing-view-versus-copy\n",
      "  errors=errors)\n"
     ]
    }
   ],
   "source": [
    "remove_multilevel_cols= ['LP_FAMILIE_FEIN', 'ZABEOTYP', 'GEBAEUDETYP', 'LP_STATUS_FEIN', 'FINANZTYP' , 'SHOPPER_TYP' ,\n",
    "              'CAMEO_DEU_2015', 'LP_STATUS_GROB', 'CAMEO_DEUG_2015']\n",
    "\n",
    "azdias_working_df.drop(remove_multilevel_cols , axis=1 , inplace=True)\n"
   ]
  },
  {
   "cell_type": "markdown",
   "metadata": {},
   "source": [
    "I will ONE-HOT-ENCODE the following:  \n",
    "1. the categorical/binomial feature 'OST_WEST_KZ'    \n",
    "2. all the categorical/multilevel features  \n",
    "3. all the mixed features, as they are also categorical -  exlude  PRAEGENDE_JUGENDJAHRE and CAMEO_INTL_2015 for now.\n",
    "  "
   ]
  },
  {
   "cell_type": "code",
   "execution_count": 255,
   "metadata": {},
   "outputs": [],
   "source": [
    "# Re-encode categorical variable(s) to be kept in the analysis.\n",
    "encode_these_features=[]\n",
    "encode_these_features.append('OST_WEST_KZ')\n",
    "\n",
    "#add the mixed\n",
    "for col in azdias_datatype_of_features['mixed']:\n",
    "    encode_these_features.append(col)\n",
    "\n",
    "    multi_level_categorical\n",
    "# add categorical/multi-level features\n",
    "for col in multi_level_categorical:\n",
    "    if col not in remove_multilevel_cols:\n",
    "        encode_these_features.append(col)\n",
    "    \n",
    "for i in  encode_these_features:\n",
    "    if   i =='PRAEGENDE_JUGENDJAHRE'    or  i =='CAMEO_INTL_2015'   :\n",
    "        encode_these_features.remove(i)\n",
    "        "
   ]
  },
  {
   "cell_type": "code",
   "execution_count": 256,
   "metadata": {},
   "outputs": [
    {
     "data": {
      "text/plain": [
       "['OST_WEST_KZ',\n",
       " 'LP_LEBENSPHASE_FEIN',\n",
       " 'LP_LEBENSPHASE_GROB',\n",
       " 'WOHNLAGE',\n",
       " 'PLZ8_BAUMAX',\n",
       " 'CJT_GESAMTTYP',\n",
       " 'GFK_URLAUBERTYP',\n",
       " 'LP_FAMILIE_GROB',\n",
       " 'NATIONALITAET_KZ']"
      ]
     },
     "execution_count": 256,
     "metadata": {},
     "output_type": "execute_result"
    }
   ],
   "source": [
    "encode_these_features"
   ]
  },
  {
   "cell_type": "code",
   "execution_count": 257,
   "metadata": {},
   "outputs": [],
   "source": [
    "#perform one-hot-encoding\n",
    "azdias_working_df = pd.get_dummies(azdias_working_df , columns=encode_these_features )"
   ]
  },
  {
   "cell_type": "markdown",
   "metadata": {},
   "source": [
    "#### Discussion 1.2.1: Re-Encode Categorical Features\n",
    "\n",
    "1.The distribution of columns by type can be seen below  \n",
    "ordinal        49\n",
    "categorical    18  \n",
    "mixed           6  \n",
    "numeric         \n",
    "\n",
    "Within the categorical category,   \n",
    "-the binary features are: 'ANREDE_KZ', 'GREEN_AVANTGARDE', 'SOHO_KZ', 'VERS_TYP', 'OST_WEST_KZ'  \n",
    "Here 'OST_WEST_KZ' required special treatment as it took values W & O.  We map this to {0,1}\n",
    "\n",
    "-The multi-level categorical features are: 'CJT_GESAMTTYP', 'FINANZTYP', 'GFK_URLAUBERTYP', 'LP_FAMILIE_FEIN','LP_FAMILIE_GROB', 'LP_STATUS_FEIN','LP_STATUS_GROB', 'NATIONALITAET_KZ','SHOPPER_TYP','ZABEOTYP','GEBAEUDETYP', 'CAMEO_DEUG_2015', 'CAMEO_DEU_2015'  \n",
    "\n",
    "-The mixed features are: 'LP_LEBENSPHASE_FEIN','LP_LEBENSPHASE_GROB','PRAEGENDE_JUGENDJAHRE','WOHNLAGE','CAMEO_INTL_2015','PLZ8_BAUMAX'\n",
    "\n",
    "I will ENCODE the following:  \n",
    "  1. the categorical/binomial feature 'OST_WEST_KZ'  \n",
    "  2. all the categorical/multilevel features\n",
    "  3. all the mixed features, as they are also categorical -  exlude  PRAEGENDE_JUGENDJAHRE and CAMEO_INTL_2015 for now.\n",
    "  \n",
    " "
   ]
  },
  {
   "cell_type": "markdown",
   "metadata": {},
   "source": [
    "#### Step 1.2.2: Engineer Mixed-Type Features\n",
    "\n",
    "There are a handful of features that are marked as \"mixed\" in the feature summary that require special treatment in order to be included in the analysis. There are two in particular that deserve attention; the handling of the rest are up to your own choices:\n",
    "- \"PRAEGENDE_JUGENDJAHRE\" combines information on three dimensions: generation by decade, movement (mainstream vs. avantgarde), and nation (east vs. west). While there aren't enough levels to disentangle east from west, you should create two new variables to capture the other two dimensions: an interval-type variable for decade, and a binary variable for movement.\n",
    "- \"CAMEO_INTL_2015\" combines information on two axes: wealth and life stage. Break up the two-digit codes by their 'tens'-place and 'ones'-place digits into two new ordinal variables (which, for the purposes of this project, is equivalent to just treating them as their raw numeric values).\n",
    "- If you decide to keep or engineer new features around the other mixed-type features, make sure you note your steps in the Discussion section.\n",
    "\n",
    "Be sure to check `Data_Dictionary.md` for the details needed to finish these tasks."
   ]
  },
  {
   "cell_type": "markdown",
   "metadata": {},
   "source": [
    "PRAEGENDE_JUGENDJAHRE takes values 1-15.  \n",
    "These values correspond to :  \n",
    "        - generation (decade)\n",
    "        - movement (Mainstream/Avantgarde) \n",
    "        -nation (East,West)\n",
    "\n",
    "I will loop through the list, read each number and create an entry for 2 new features:  'decade' and 'movement' \n"
   ]
  },
  {
   "cell_type": "code",
   "execution_count": 258,
   "metadata": {},
   "outputs": [],
   "source": [
    "# Investigate  and engineer two new variables.\n",
    "# look at unique levels of feature 'PRAEGENDE_JUGENDJAHRE'\n",
    "#l=list(azdias_working_df['PRAEGENDE_JUGENDJAHRE'].unique())\n",
    "\n",
    "mainstream=[1,3,5,8,10,12,14]\n",
    "avantgarde=[2,4,6,7,9,11,13,15]\n",
    "movement=[]\n",
    "decade=[]\n",
    "\n",
    "for i in azdias_working_df['PRAEGENDE_JUGENDJAHRE']:\n",
    "    ' classify along the movement axis'\n",
    "    if i in mainstream:\n",
    "        movement.append(0)\n",
    "    elif i in avantgarde:\n",
    "        movement.append(1)\n",
    "        \n",
    "    if i in [1,2]:\n",
    "        decade.append(40)\n",
    "    elif i in [3,4]:\n",
    "        decade.append(50)\n",
    "    elif i in [5,6,7]:\n",
    "        decade.append(60)\n",
    "    elif i in [8,9]:\n",
    "        decade.append(70)\n",
    "    elif i in [10,11,12]:\n",
    "        decade.append(80)\n",
    "    elif i in [13,14,15]:\n",
    "        decade.append(90)\n",
    "    else:\n",
    "        decade.append(np.NaN)\n",
    "    \n",
    "azdias_working_df['movement']=movement\n",
    "azdias_working_df['decade']=decade\n"
   ]
  },
  {
   "cell_type": "markdown",
   "metadata": {},
   "source": [
    "CAMEO_INTL_2015 takes values 11-55.  \n",
    "These values correspond to :  \n",
    "        - Wealth  .... mapped by the 10s digit\n",
    "        - Stage in life ..... mapped by the 1s digit\n",
    "\n",
    "Wealth :     [10,20,30,40,50] ----> [1-5 scale]\n",
    "Life Stage:  [1,2,3,4,5]. --->         [1-5 scale]"
   ]
  },
  {
   "cell_type": "code",
   "execution_count": 259,
   "metadata": {},
   "outputs": [],
   "source": [
    "# Investigate \"CAMEO_INTL_2015\" and engineer two new variables.\n",
    "# look at unique levels of feature 'CAMEO_INTL_2015'\n",
    "#l=list(azdias_working_df['CAMEO_INTL_2015'].unique())\n",
    "\n",
    "wealth=[]\n",
    "life_stage=[]\n",
    "\n",
    "#azdias_working_df['CAMEO_INTL_2015'].head()\n",
    "for i in azdias_working_df['CAMEO_INTL_2015']:\n",
    "    ones=int(i) % 10\n",
    "    tens = int(i) - ones\n",
    "    \n",
    "    if 10 <= tens <= 19 :\n",
    "        wealth.append(5)\n",
    "    elif 20<=tens<=29:\n",
    "        wealth.append(4)\n",
    "    elif 30<=tens<=39:\n",
    "        wealth.append(3)\n",
    "    elif 40<=tens<=49:\n",
    "        wealth.append(2)\n",
    "    elif 50<=tens<=59:\n",
    "        wealth.append(1)\n",
    "    else:\n",
    "        wealth.append(np.NaN)\n",
    "\n",
    "    life_stage.append(ones)\n",
    "    \n",
    "\n",
    "azdias_working_df['wealth']=wealth\n",
    "azdias_working_df['life_stage']=life_stage\n",
    "\n",
    "\n",
    "azdias_working_df.drop( ['CAMEO_INTL_2015','PRAEGENDE_JUGENDJAHRE'] , axis=1 , inplace=True)"
   ]
  },
  {
   "cell_type": "markdown",
   "metadata": {},
   "source": [
    "#### Discussion 1.2.2: Engineer Mixed-Type Features\n",
    "\n",
    "(Double-click this cell and replace this text with your own text, reporting your findings and decisions regarding mixed-value features. Which ones did you keep, which did you drop, and what engineering steps did you perform?)"
   ]
  },
  {
   "cell_type": "markdown",
   "metadata": {},
   "source": [
    "#### Step 1.2.3: Complete Feature Selection\n",
    "\n",
    "In order to finish this step up, you need to make sure that your data frame now only has the columns that you want to keep. To summarize, the dataframe should consist of the following:\n",
    "- All numeric, interval, and ordinal type columns from the original dataset.\n",
    "- Binary categorical features (all numerically-encoded).\n",
    "- Engineered features from other multi-level categorical features and mixed features.\n",
    "\n",
    "Make sure that for any new columns that you have engineered, that you've excluded the original columns from the final dataset. Otherwise, their values will interfere with the analysis later on the project. For example, you should not keep \"PRAEGENDE_JUGENDJAHRE\", since its values won't be useful for the algorithm: only the values derived from it in the engineered features you created should be retained. As a reminder, your data should only be from **the subset with few or no missing values**."
   ]
  },
  {
   "cell_type": "code",
   "execution_count": 260,
   "metadata": {},
   "outputs": [
    {
     "name": "stdout",
     "output_type": "stream",
     "text": [
      "ALTERSKATEGORIE_GROB [ 1.  3.  2.  4.]\n",
      "ANREDE_KZ [2 1]\n",
      "FINANZ_MINIMALIST [1 4 3 2 5]\n",
      "FINANZ_SPARER [5 4 3 1 2]\n",
      "FINANZ_VORSORGER [2 1 4 5 3]\n",
      "FINANZ_ANLEGER [5 2 1 4 3]\n",
      "FINANZ_UNAUFFAELLIGER [4 3 2 5 1]\n",
      "FINANZ_HAUSBAUER [5 2 3 4 1]\n",
      "GREEN_AVANTGARDE [0 1]\n",
      "HEALTH_TYP [ 3.  2.  1.]\n",
      "RETOURTYP_BK_S [ 1.  3.  5.  4.  2.]\n",
      "SEMIO_SOZ [5 4 6 2 7 3 1]\n",
      "SEMIO_FAM [4 1 5 7 2 6 3]\n",
      "SEMIO_REL [4 3 7 5 1 6 2]\n",
      "SEMIO_MAT [3 2 4 7 5 1 6]\n",
      "SEMIO_VERT [1 4 7 2 6 5 3]\n",
      "SEMIO_LUST [2 4 6 3 1 7 5]\n",
      "SEMIO_ERL [2 6 4 5 7 3 1]\n",
      "SEMIO_KULT [3 6 5 7 1 2 4]\n",
      "SEMIO_RAT [6 4 2 7 5 1 3]\n",
      "SEMIO_KRIT [4 7 3 1 5 2 6]\n",
      "SEMIO_DOM [7 2 4 1 5 6 3]\n",
      "SEMIO_KAEM [4 7 2 3 1 5 6]\n",
      "SEMIO_PFLICHT [7 3 4 5 1 6 2]\n",
      "SEMIO_TRADV [6 3 2 7 5 4 1]\n",
      "SOHO_KZ [ 1.  0.]\n",
      "VERS_TYP [ 2.  1.]\n",
      "ANZ_PERSONEN [  2.   1.   4.   3.   5.   6.   8.   7.  12.   9.  21.  10.  13.  11.  14.\n",
      "  20.  31.  37.  16.  22.  15.  18.  35.  38.]\n",
      "ANZ_TITEL [ 0.  1.  2.  4.  3.]\n",
      "HH_EINKOMMEN_SCORE [ 6.  4.  5.  3.  1.  2.]\n",
      "W_KEIT_KIND_HH [ 3.  2.  6.  5.  4.  1.]\n",
      "WOHNDAUER_2008 [ 9.  8.  3.  6.  4.  2.  5.  7.  1.]\n",
      "ANZ_HAUSHALTE_AKTIV [  11.   10.    3.    5.    4.    6.    2.    9.    1.   14.   13.    8.\n",
      "    7.   44.   25.  272.   33.   15.   12.   22.   21.   20.   23.   18.\n",
      "   24.   31.   39.   16.   19.   30.   29.   54.   17.   88.   49.   27.\n",
      "   60.   38.   34.   35.   45.   28.   26.   77.   47.   50.   36.   43.\n",
      "   52.   41.   40.   37.   59.   53.   57.  118.   32.   78.   42.   70.\n",
      "   46.   73.  137.   80.   92.  126.   94.   71.   66.   68.   81.   69.\n",
      "   76.   95.   48.  258.   63.  124.   90.  128.   67.   64.   56.   83.\n",
      "  102.  150.  236.   58.  259.   51.  160.  134.  169.  246.   82.   91.\n",
      "  114.  183.   86.   61.  143.   99.  216.   98.  125.  112.  123.   55.\n",
      "  120.   75.  141.   62.   72.  103.   85.   87.  223.   93.  179.  135.\n",
      "  149.   97.  101.  111.  109.  121.   84.  367.  195.   89.  107.  119.\n",
      "  161.  157.  175.  136.   65.  116.   79.  104.  177.  316.  127.  100.\n",
      "  155.  133.  178.  176.  110.  131.  122.  130.  256.  117.  146.  211.\n",
      "  199.  140.  200.  108.  106.  285.  180.   74.  163.  377.  148.  191.\n",
      "  243.  153.  145.  174.  172.   96.  190.  142.  317.  244.  189.  286.\n",
      "  105.  170.  215.  321.  171.  113.  156.  129.  242.  115.  132.  185.\n",
      "  280.  159.  138.  158.  267.  253.  151.  164.  187.  266.  162.  265.\n",
      "  139.  206.  193.  210.  366.  194.  318.  344.  154.  197.  247.  283.\n",
      "  184.  165.  326.  181.  186.  438.  260.  144.  378.  237.  152.  208.\n",
      "  274.  430.  222.  202.  214.  231.  219.  225.  230.  224.  333.  198.\n",
      "  168.  221.  523.  254.  305.  166.  252.  445.  147.  301.  213.  536.\n",
      "  220.  290.  515.  276.  241.  263.  196.  204.  250.  277.  218.  226.\n",
      "  201.  240.  404.  348.  328.  228.  167.  346.  205.  207.  293.  331.\n",
      "  255.  307.  414.  311.  347.  379.  395.  232.]\n",
      "ANZ_HH_TITEL [  0.   1.   5.   2.   3.   6.   4.   9.  15.  14.   8.   7.  11.  10.  12.\n",
      "  13.  20.  16.  18.]\n",
      "KONSUMNAEHE [ 1.  5.  4.  3.  2.  6.  7.]\n",
      "MIN_GEBAEUDEJAHR [ 1992.  1994.  1996.  1991.  1993.  1997.  2003.  2000.  1995.  1990.\n",
      "  2004.  1999.  1998.  2002.  1989.  2001.  1988.  2005.  1987.  1985.\n",
      "  1986.]\n",
      "KBA05_ANTG1 [ 0.  1.  2.  3.  4.]\n",
      "KBA05_ANTG2 [ 0.  3.  4.  2.  1.]\n",
      "KBA05_ANTG3 [ 0.  1.  3.  2.]\n",
      "KBA05_ANTG4 [ 2.  0.  1.]\n",
      "KBA05_GBZ [ 1.  3.  4.  5.  2.]\n",
      "BALLRAUM [ 6.  2.  3.  1.  4.  7.  5.]\n",
      "EWDICHTE [ 3.  4.  5.  2.  6.  1.]\n",
      "INNENSTADT [ 8.  4.  1.  7.  3.  6.  5.  2.]\n",
      "GEBAEUDETYP_RASTER [ 3.  4.  5.  2.  1.]\n",
      "KKK [ 2.  3.  4.  1.]\n",
      "MOBI_REGIO [ 1.  3.  4.  5.  2.  6.]\n",
      "ONLINE_AFFINITAET [ 3.  2.  5.  1.  0.  4.]\n",
      "REGIOTYP [ 3.  2.  5.  1.  7.  6.  4.]\n",
      "KBA13_ANZAHL_PKW [ 963.  712.  435. ...,   30.   10.    1.]\n",
      "PLZ8_ANTG1 [ 2.  3.  1.  4.  0.]\n",
      "PLZ8_ANTG2 [ 3.  4.  2.  1.  0.]\n",
      "PLZ8_ANTG3 [ 2.  1.  3.  0.]\n",
      "PLZ8_ANTG4 [ 1.  0.  2.]\n",
      "PLZ8_HHZ [ 5.  4.  3.  2.  1.]\n",
      "PLZ8_GBZ [ 4.  3.  5.  2.  1.]\n",
      "ARBEIT [ 3.  4.  2.  5.  1.]\n",
      "ORTSGR_KLS9 [ 5.  6.  3.  4.  7.  8.  9.  1.  2.]\n",
      "RELAT_AB [ 4.  2.  5.  3.  1.]\n",
      "OST_WEST_KZ_O [0 1]\n",
      "OST_WEST_KZ_W [1 0]\n",
      "LP_LEBENSPHASE_FEIN_1.0 [0 1]\n",
      "LP_LEBENSPHASE_FEIN_2.0 [0 1]\n",
      "LP_LEBENSPHASE_FEIN_3.0 [0 1]\n",
      "LP_LEBENSPHASE_FEIN_4.0 [0 1]\n",
      "LP_LEBENSPHASE_FEIN_5.0 [0 1]\n",
      "LP_LEBENSPHASE_FEIN_6.0 [0 1]\n",
      "LP_LEBENSPHASE_FEIN_7.0 [0 1]\n",
      "LP_LEBENSPHASE_FEIN_8.0 [0 1]\n",
      "LP_LEBENSPHASE_FEIN_9.0 [0 1]\n",
      "LP_LEBENSPHASE_FEIN_10.0 [0 1]\n",
      "LP_LEBENSPHASE_FEIN_11.0 [0 1]\n",
      "LP_LEBENSPHASE_FEIN_12.0 [0 1]\n",
      "LP_LEBENSPHASE_FEIN_13.0 [0 1]\n",
      "LP_LEBENSPHASE_FEIN_14.0 [0 1]\n",
      "LP_LEBENSPHASE_FEIN_15.0 [0 1]\n",
      "LP_LEBENSPHASE_FEIN_16.0 [0 1]\n",
      "LP_LEBENSPHASE_FEIN_17.0 [0 1]\n",
      "LP_LEBENSPHASE_FEIN_18.0 [0 1]\n",
      "LP_LEBENSPHASE_FEIN_19.0 [0 1]\n",
      "LP_LEBENSPHASE_FEIN_20.0 [0 1]\n",
      "LP_LEBENSPHASE_FEIN_21.0 [1 0]\n",
      "LP_LEBENSPHASE_FEIN_22.0 [0 1]\n",
      "LP_LEBENSPHASE_FEIN_23.0 [0 1]\n",
      "LP_LEBENSPHASE_FEIN_24.0 [0 1]\n",
      "LP_LEBENSPHASE_FEIN_25.0 [0 1]\n",
      "LP_LEBENSPHASE_FEIN_26.0 [0 1]\n",
      "LP_LEBENSPHASE_FEIN_27.0 [0 1]\n",
      "LP_LEBENSPHASE_FEIN_28.0 [0 1]\n",
      "LP_LEBENSPHASE_FEIN_29.0 [0 1]\n",
      "LP_LEBENSPHASE_FEIN_30.0 [0 1]\n",
      "LP_LEBENSPHASE_FEIN_31.0 [0 1]\n",
      "LP_LEBENSPHASE_FEIN_32.0 [0 1]\n",
      "LP_LEBENSPHASE_FEIN_33.0 [0 1]\n",
      "LP_LEBENSPHASE_FEIN_34.0 [0 1]\n",
      "LP_LEBENSPHASE_FEIN_35.0 [0 1]\n",
      "LP_LEBENSPHASE_FEIN_36.0 [0 1]\n",
      "LP_LEBENSPHASE_FEIN_37.0 [0 1]\n",
      "LP_LEBENSPHASE_FEIN_38.0 [0 1]\n",
      "LP_LEBENSPHASE_FEIN_39.0 [0 1]\n",
      "LP_LEBENSPHASE_FEIN_40.0 [0 1]\n",
      "LP_LEBENSPHASE_GROB_1.0 [0 1]\n",
      "LP_LEBENSPHASE_GROB_2.0 [0 1]\n",
      "LP_LEBENSPHASE_GROB_3.0 [0 1]\n",
      "LP_LEBENSPHASE_GROB_4.0 [0 1]\n",
      "LP_LEBENSPHASE_GROB_5.0 [0 1]\n",
      "LP_LEBENSPHASE_GROB_6.0 [1 0]\n",
      "LP_LEBENSPHASE_GROB_7.0 [0 1]\n",
      "LP_LEBENSPHASE_GROB_8.0 [0 1]\n",
      "LP_LEBENSPHASE_GROB_9.0 [0 1]\n",
      "LP_LEBENSPHASE_GROB_10.0 [0 1]\n",
      "LP_LEBENSPHASE_GROB_11.0 [0 1]\n",
      "LP_LEBENSPHASE_GROB_12.0 [0 1]\n",
      "WOHNLAGE_0.0 [0 1]\n",
      "WOHNLAGE_1.0 [0 1]\n",
      "WOHNLAGE_2.0 [0 1]\n",
      "WOHNLAGE_3.0 [0 1]\n",
      "WOHNLAGE_4.0 [1 0]\n",
      "WOHNLAGE_5.0 [0 1]\n",
      "WOHNLAGE_7.0 [0 1]\n",
      "WOHNLAGE_8.0 [0 1]\n",
      "PLZ8_BAUMAX_1.0 [1 0]\n",
      "PLZ8_BAUMAX_2.0 [0 1]\n",
      "PLZ8_BAUMAX_3.0 [0 1]\n",
      "PLZ8_BAUMAX_4.0 [0 1]\n",
      "PLZ8_BAUMAX_5.0 [0 1]\n",
      "CJT_GESAMTTYP_1.0 [0 1]\n",
      "CJT_GESAMTTYP_2.0 [0 1]\n",
      "CJT_GESAMTTYP_3.0 [0 1]\n",
      "CJT_GESAMTTYP_4.0 [0 1]\n",
      "CJT_GESAMTTYP_5.0 [1 0]\n",
      "CJT_GESAMTTYP_6.0 [0 1]\n",
      "GFK_URLAUBERTYP_1.0 [0 1]\n",
      "GFK_URLAUBERTYP_2.0 [0 1]\n",
      "GFK_URLAUBERTYP_3.0 [0 1]\n",
      "GFK_URLAUBERTYP_4.0 [0 1]\n",
      "GFK_URLAUBERTYP_5.0 [0 1]\n",
      "GFK_URLAUBERTYP_6.0 [0 1]\n",
      "GFK_URLAUBERTYP_7.0 [0 1]\n",
      "GFK_URLAUBERTYP_8.0 [0 1]\n",
      "GFK_URLAUBERTYP_9.0 [0 1]\n",
      "GFK_URLAUBERTYP_10.0 [1 0]\n",
      "GFK_URLAUBERTYP_11.0 [0 1]\n",
      "GFK_URLAUBERTYP_12.0 [0 1]\n",
      "LP_FAMILIE_GROB_1.0 [0 1]\n",
      "LP_FAMILIE_GROB_2.0 [0 1]\n",
      "LP_FAMILIE_GROB_3.0 [1 0]\n",
      "LP_FAMILIE_GROB_4.0 [0 1]\n",
      "LP_FAMILIE_GROB_5.0 [0 1]\n",
      "NATIONALITAET_KZ_1.0 [1 0]\n",
      "NATIONALITAET_KZ_2.0 [0 1]\n",
      "NATIONALITAET_KZ_3.0 [0 1]\n",
      "movement [0 1]\n",
      "decade [90 70 50 80 60 40]\n",
      "wealth [1 4 2 5 3]\n",
      "life_stage [1 4 3 2 5]\n"
     ]
    }
   ],
   "source": [
    "# If there are other re-engineering tasks you need to perform, make sure you\n",
    "# take care of them here. (Dealing with missing data will come in step 2.1.)\n",
    "for column in azdias_working_df.columns:\n",
    "    print(column, azdias_working_df[column].unique()  )\n",
    "    \n"
   ]
  },
  {
   "cell_type": "code",
   "execution_count": 261,
   "metadata": {},
   "outputs": [],
   "source": [
    "# Do whatever you need to in order to ensure that the dataframe only contains\n",
    "# the columns that should be passed to the algorithm functions.\n",
    "\n"
   ]
  },
  {
   "cell_type": "markdown",
   "metadata": {},
   "source": [
    "### Step 1.3: Create a Cleaning Function\n",
    "\n",
    "Even though you've finished cleaning up the general population demographics data, it's important to look ahead to the future and realize that you'll need to perform the same cleaning steps on the customer demographics data. In this substep, complete the function below to execute the main feature selection, encoding, and re-engineering steps you performed above. Then, when it comes to looking at the customer data in Step 3, you can just run this function on that DataFrame to get the trimmed dataset in a single step."
   ]
  },
  {
   "cell_type": "code",
   "execution_count": 262,
   "metadata": {},
   "outputs": [],
   "source": [
    "def clean_data(df):\n",
    "    \"\"\"\n",
    "    Perform feature trimming, re-encoding, and engineering for demographics\n",
    "    data\n",
    "    \n",
    "    INPUT: Demographics DataFrame\n",
    "    OUTPUT: Trimmed and cleaned demographics DataFrame\n",
    "    \"\"\"\n",
    "    # Step 0: Print AZDIAS initial stats\n",
    "    num_of_columns=df.shape[1]\n",
    "    num_of_rows=df.shape[0]\n",
    "    total_obs=azdias.size\n",
    "    print('Cust File: Total Num Obs:' ,total_obs, ' Num Rows:', num_of_rows,' Num Cols:', num_of_columns)\n",
    "\n",
    "    #Find number fo NaNs before special pre-processing\n",
    "    total_nan_initial_count=azdias.isna().sum().sum()\n",
    "    initial_ratio_of_nan_to_total_obs=total_nan_initial_count/total_obs\n",
    "    print('Before pre-processing, pandas can identify at inception {} missing values.This is {:02.2f}% of total obs'.format(total_nan_initial_count,initial_ratio_of_nan_to_total_obs*100))\n",
    "\n",
    "    # Step 1:  Read in Feature_Summary file\n",
    "    feat_info = pd.read_csv('AZDIAS_Feature_Summary.csv',';')\n",
    "    \n",
    "    # Put in code here to execute all main cleaning steps:\n",
    "    \n",
    "    # convert missing value codes into NaNs, ...\n",
    "    feat_info['NA_tags'] = feat_info['missing_or_unknown'].apply(convert_features_info_string_to_list)\n",
    "    att_index = feat_info.set_index('attribute')\n",
    "    df_with_nas=df[:]\n",
    "    for column in df_with_nas.columns:\n",
    "        #print('in column {}, replace {} with Nan'.format(  column , att_index.loc[column].loc['NA_tags']  )  )\n",
    "        df_with_nas[column].replace( att_index.loc[column].loc['NA_tags'], np.nan, inplace=True)\n",
    "        \n",
    "    # remove COLUMNS with too many NaNs\n",
    "    remove_columns = ['KBA05_BAUMAX','KK_KUNDENTYP','ALTER_HH','TITEL_KZ','GEBURTSJAHR','AGER_TYP']\n",
    "    df_with_nas.drop(labels=remove_columns,axis=1,inplace=True)\n",
    "    #removed these 6 columns that we dropped from the feat_info df, to avoid errors later in the analysis\n",
    "    feat_info = feat_info.set_index('attribute').drop( remove_columns ).reset_index()\n",
    "    nan_left_after_rem_topnan_cols=df_with_nas.isna().sum().sum()\n",
    "    print('After we remove Cols with too many NAs, we are left with : ' ,  nan_left_after_rem_topnan_cols )\n",
    "\n",
    "    # remove ROWS with ANY NaNs\n",
    "    df_with_nas['num_of_nas_byrow'] = df_with_nas.isna().sum(axis=1)\n",
    "    working_df = df_with_nas[  df_with_nas['num_of_nas_byrow']==0  ]\n",
    "    working_df.drop('num_of_nas_byrow', inplace=True, axis=1)\n",
    "\n",
    "    # select, re-encode, and engineer column values.\n",
    "    datatype_of_features={}\n",
    "    datatypes=['mixed','categorical','numeric','ordinal']\n",
    "    \n",
    "    for d in datatypes:\n",
    "        datatype_of_features[d]=feat_info[  feat_info['type']==d ]['attribute']\n",
    "        \n",
    "    # Split the categorical features into (i) Binary, (ii) Multi-level\n",
    "    categorical_cols_in_na_azdias=working_df[ datatype_of_features['categorical']]\n",
    "\n",
    "    multi_level_categorical=[]\n",
    "    binary_categorical=[]\n",
    "    \n",
    "    for column in categorical_cols_in_na_azdias.columns:\n",
    "        #get the current columns\n",
    "        curr_col=categorical_cols_in_na_azdias[column]\n",
    "        \n",
    "        #select and count the unique, non NA values\n",
    "        unique_values= curr_col[curr_col.notna()].unique()\n",
    "        count_unique_values= len( unique_values )\n",
    "        \n",
    "        if count_unique_values >2:\n",
    "            multi_level_categorical.append(column)\n",
    "        elif count_unique_values ==2:\n",
    "            binary_categorical.append(column)\n",
    "    \n",
    "        #I will ONE-HOT-ENCODE the following:\n",
    "        #1.\tthe categorical/binomial feature 'OST_WEST_KZ'\n",
    "        #2.\tall the categorical/multilevel features\n",
    "        # Re-encode categorical variable(s) to be kept in the analysis.\n",
    "        \n",
    "        #However first i will drop some multilevel features\n",
    "        remove_multilevel_cols= ['LP_FAMILIE_FEIN', 'ZABEOTYP', 'GEBAEUDETYP', 'LP_STATUS_FEIN', 'FINANZTYP' , 'SHOPPER_TYP' ,\n",
    "              'CAMEO_DEU_2015', 'LP_STATUS_GROB', 'CAMEO_DEUG_2015']\n",
    "        \n",
    "        working_df.drop(remove_multilevel_cols , axis=1 , inplace=True)\n",
    "\n",
    "        encode_these_features=[]\n",
    "        encode_these_features.append('OST_WEST_KZ')\n",
    "\n",
    "        #add the mixed\n",
    "        for col in azdias_datatype_of_features['mixed']:\n",
    "            encode_these_features.append(col)\n",
    "            \n",
    "        # add categorical/multi-level features\n",
    "        for col in multi_level_categorical:\n",
    "            encode_these_features.append(col)\n",
    "    \n",
    "        for i in  encode_these_features:\n",
    "            if   i =='PRAEGENDE_JUGENDJAHRE'    or  i =='CAMEO_INTL_2015'   :\n",
    "                encode_these_features.remove(i)   \n",
    "                \n",
    "        #perform one-hot-encoding\n",
    "        working_df = pd.get_dummies(working_df , columns=encode_these_features )   \n",
    " \n",
    "        # engineer MIXED TYPE features\n",
    "        # Investigate  and engineer two new variables.\n",
    "        # look at unique levels of feature 'PRAEGENDE_JUGENDJAHRE'\n",
    "        mainstream=[1,3,5,8,10,12,14]\n",
    "        avantgarde=[2,4,6,7,9,11,13,15]\n",
    "        movement=[]\n",
    "        decade=[]\n",
    "\n",
    "        for i in azdias_working_df['PRAEGENDE_JUGENDJAHRE']:\n",
    "            ' classify along the movement axis'\n",
    "            if i in mainstream:\n",
    "                movement.append(0)\n",
    "            elif i in avantgarde:\n",
    "                movement.append(1)\n",
    "        \n",
    "            if i in [1,2]:\n",
    "                decade.append(40)\n",
    "            elif i in [3,4]:\n",
    "                decade.append(50)\n",
    "            elif i in [5,6,7]:\n",
    "                decade.append(60)\n",
    "            elif i in [8,9]:\n",
    "                decade.append(70)\n",
    "            elif i in [10,11,12]:\n",
    "                decade.append(80)\n",
    "            elif i in [13,14,15]:\n",
    "                decade.append(90)\n",
    "            else:\n",
    "                decade.append(np.NaN)\n",
    "        \n",
    "        working_df['movement']=movement\n",
    "        working_df['decade']=decade    \n",
    "\n",
    "        #CAMEO_INTL_2015 takes values 11-55.  \n",
    "        #These values correspond to :  \n",
    "        #- Wealth  .... mapped by the 10s digit\n",
    "        #- Stage in life ..... mapped by the 1s digit\n",
    "        #Wealth :     [10,20,30,40,50] ----> [1-5 scale]\n",
    "        #Life Stage:  [1,2,3,4,5]. --->         [1-5 scale]\n",
    "\n",
    "        # Investigate \"CAMEO_INTL_2015\" and engineer two new variables.\n",
    "        # look at unique levels of feature 'CAMEO_INTL_2015'\n",
    " \n",
    "        wealth=[]\n",
    "        life_stage=[]\n",
    "        \n",
    "        for i in working_df['CAMEO_INTL_2015'] :\n",
    "            ones=int(i) % 10\n",
    "            tens = int( i) - ones\n",
    "             \n",
    "            if 10<=tens<=19:\n",
    "                wealth.append(5)\n",
    "            elif 20<=tens<=29:\n",
    "                wealth.append(4)\n",
    "            elif 30<=tens<=39:\n",
    "                wealth.append(3)\n",
    "            elif 40<=tens<=49:\n",
    "                wealth.append(2)\n",
    "            elif 50<=tens<=59:\n",
    "                wealth.append(1)\n",
    "            else:\n",
    "                wealth.append(np.NaN)\n",
    "                \n",
    "            life_stage.append(ones)\n",
    "            \n",
    "        working_df['wealth']=wealth\n",
    "        working_df['life_stage']=life_stage\n",
    "        \n",
    "        azdias_working_df.drop( ['CAMEO_INTL_2015','PRAEGENDE_JUGENDJAHRE'] , axis=1 , inplace=True)\n",
    "\n",
    "        # Return the cleaned dataframe.\n",
    "        return(working_df)\n",
    "    "
   ]
  },
  {
   "cell_type": "code",
   "execution_count": 263,
   "metadata": {},
   "outputs": [],
   "source": [
    "#azdias_clean=clean_data(azdias)\n",
    "#azdias_clean.head()"
   ]
  },
  {
   "cell_type": "markdown",
   "metadata": {},
   "source": [
    "## Step 2: Feature Transformation\n",
    "\n",
    "### Step 2.1: Apply Feature Scaling\n",
    "\n",
    "Before we apply dimensionality reduction techniques to the data, we need to perform feature scaling so that the principal component vectors are not influenced by the natural differences in scale for features. Starting from this part of the project, you'll want to keep an eye on the [API reference page for sklearn](http://scikit-learn.org/stable/modules/classes.html) to help you navigate to all of the classes and functions that you'll need. In this substep, you'll need to check the following:\n",
    "\n",
    "- sklearn requires that data not have missing values in order for its estimators to work properly. So, before applying the scaler to your data, make sure that you've cleaned the DataFrame of the remaining missing values. This can be as simple as just removing all data points with missing data, or applying an [Imputer](http://scikit-learn.org/stable/modules/generated/sklearn.preprocessing.Imputer.html) to replace all missing values. You might also try a more complicated procedure where you temporarily remove missing values in order to compute the scaling parameters before re-introducing those missing values and applying imputation. Think about how much missing data you have and what possible effects each approach might have on your analysis, and justify your decision in the discussion section below.\n",
    "- For the actual scaling function, a [StandardScaler](http://scikit-learn.org/stable/modules/generated/sklearn.preprocessing.StandardScaler.html) instance is suggested, scaling each feature to mean 0 and standard deviation 1.\n",
    "- For these classes, you can make use of the `.fit_transform()` method to both fit a procedure to the data as well as apply the transformation to the data at the same time. Don't forget to keep the fit sklearn objects handy, since you'll be applying them to the customer demographics data towards the end of the project."
   ]
  },
  {
   "cell_type": "code",
   "execution_count": 268,
   "metadata": {},
   "outputs": [],
   "source": [
    "# If you've not yet cleaned the dataset of all NaN values, then investigate and\n",
    "# do that now.\n",
    "\n"
   ]
  },
  {
   "cell_type": "code",
   "execution_count": 269,
   "metadata": {},
   "outputs": [],
   "source": [
    "# Apply feature scaling to the general population demographics data.\n",
    "\n",
    "scaler = StandardScaler()\n",
    "adzias_final_not_stand=azdias_working_df\n",
    "adzias_final_stand=scaler.fit_transform(adzias_final_not_stand)\n"
   ]
  },
  {
   "cell_type": "code",
   "execution_count": null,
   "metadata": {},
   "outputs": [],
   "source": []
  },
  {
   "cell_type": "markdown",
   "metadata": {},
   "source": [
    "### Discussion 2.1: Apply Feature Scaling\n",
    "\n",
    "1. In previous stages I already removed all rows with NaN (as i do not have insight in the data that would allow me to select proper imputation.  Furthermore, i do not like using Median or Mean for imputation..\n",
    "\n",
    "2.  I apply StandardScaler to standardize my data set\n"
   ]
  },
  {
   "cell_type": "markdown",
   "metadata": {},
   "source": [
    "### Step 2.2: Perform Dimensionality Reduction\n",
    "\n",
    "On your scaled data, you are now ready to apply dimensionality reduction techniques.\n",
    "\n",
    "- Use sklearn's [PCA](http://scikit-learn.org/stable/modules/generated/sklearn.decomposition.PCA.html) class to apply principal component analysis on the data, thus finding the vectors of maximal variance in the data. To start, you should not set any parameters (so all components are computed) or set a number of components that is at least half the number of features (so there's enough features to see the general trend in variability).\n",
    "- Check out the ratio of variance explained by each principal component as well as the cumulative variance explained. Try plotting the cumulative or sequential values using matplotlib's [`plot()`](https://matplotlib.org/api/_as_gen/matplotlib.pyplot.plot.html) function. Based on what you find, select a value for the number of transformed features you'll retain for the clustering part of the project.\n",
    "- Once you've made a choice for the number of components to keep, make sure you re-fit a PCA instance to perform the decided-on transformation."
   ]
  },
  {
   "cell_type": "code",
   "execution_count": 270,
   "metadata": {},
   "outputs": [
    {
     "ename": "AttributeError",
     "evalue": "'PCA' object has no attribute 'exlained_variance_ratio_'",
     "output_type": "error",
     "traceback": [
      "\u001b[0;31m---------------------------------------------------------------------------\u001b[0m",
      "\u001b[0;31mAttributeError\u001b[0m                            Traceback (most recent call last)",
      "\u001b[0;32m<ipython-input-270-4f649297ebbb>\u001b[0m in \u001b[0;36m<module>\u001b[0;34m()\u001b[0m\n\u001b[1;32m      2\u001b[0m \u001b[0mpca\u001b[0m\u001b[0;34m=\u001b[0m\u001b[0mPCA\u001b[0m\u001b[0;34m(\u001b[0m\u001b[0;34m)\u001b[0m\u001b[0;34m\u001b[0m\u001b[0m\n\u001b[1;32m      3\u001b[0m \u001b[0mX_pca\u001b[0m\u001b[0;34m=\u001b[0m\u001b[0mpca\u001b[0m\u001b[0;34m.\u001b[0m\u001b[0mfit\u001b[0m\u001b[0;34m(\u001b[0m\u001b[0madzias_final_stand\u001b[0m\u001b[0;34m)\u001b[0m\u001b[0;34m\u001b[0m\u001b[0m\n\u001b[0;32m----> 4\u001b[0;31m \u001b[0mpca\u001b[0m\u001b[0;34m.\u001b[0m\u001b[0mexlained_variance_ratio_\u001b[0m\u001b[0;34m\u001b[0m\u001b[0m\n\u001b[0m\u001b[1;32m      5\u001b[0m \u001b[0;34m\u001b[0m\u001b[0m\n\u001b[1;32m      6\u001b[0m \u001b[0;31m#df = pd.read_csv('Input.csv')\u001b[0m\u001b[0;34m\u001b[0m\u001b[0;34m\u001b[0m\u001b[0m\n",
      "\u001b[0;31mAttributeError\u001b[0m: 'PCA' object has no attribute 'exlained_variance_ratio_'"
     ]
    }
   ],
   "source": [
    "# Apply PCA to the data.\n",
    "pca=PCA()\n",
    "X_pca=pca.fit(adzias_final_stand)\n",
    "pca.exlained_variance_ratio_\n",
    "\n",
    "#df = pd.read_csv('Input.csv')\n",
    "#df = df.dropna()\n",
    "#df_transform = StandardScaler().fit_transform(df)\n",
    "#pca = PCA(n_components=2).fit(df_transform)\n",
    "#new_df = pca.transform(df_transform)\n",
    "#var_exp = pca.explained_variance_ratio_"
   ]
  },
  {
   "cell_type": "code",
   "execution_count": null,
   "metadata": {},
   "outputs": [],
   "source": [
    "# Investigate the variance accounted for by each principal component.\n",
    "\n"
   ]
  },
  {
   "cell_type": "code",
   "execution_count": null,
   "metadata": {},
   "outputs": [],
   "source": [
    "# Re-apply PCA to the data while selecting for number of components to retain.\n",
    "\n"
   ]
  },
  {
   "cell_type": "markdown",
   "metadata": {},
   "source": [
    "### Discussion 2.2: Perform Dimensionality Reduction\n",
    "\n",
    "(Double-click this cell and replace this text with your own text, reporting your findings and decisions regarding dimensionality reduction. How many principal components / transformed features are you retaining for the next step of the analysis?)"
   ]
  },
  {
   "cell_type": "markdown",
   "metadata": {},
   "source": [
    "### Step 2.3: Interpret Principal Components\n",
    "\n",
    "Now that we have our transformed principal components, it's a nice idea to check out the weight of each variable on the first few components to see if they can be interpreted in some fashion.\n",
    "\n",
    "As a reminder, each principal component is a unit vector that points in the direction of highest variance (after accounting for the variance captured by earlier principal components). The further a weight is from zero, the more the principal component is in the direction of the corresponding feature. If two features have large weights of the same sign (both positive or both negative), then increases in one tend expect to be associated with increases in the other. To contrast, features with different signs can be expected to show a negative correlation: increases in one variable should result in a decrease in the other.\n",
    "\n",
    "- To investigate the features, you should map each weight to their corresponding feature name, then sort the features according to weight. The most interesting features for each principal component, then, will be those at the beginning and end of the sorted list. Use the data dictionary document to help you understand these most prominent features, their relationships, and what a positive or negative value on the principal component might indicate.\n",
    "- You should investigate and interpret feature associations from the first three principal components in this substep. To help facilitate this, you should write a function that you can call at any time to print the sorted list of feature weights, for the *i*-th principal component. This might come in handy in the next step of the project, when you interpret the tendencies of the discovered clusters."
   ]
  },
  {
   "cell_type": "code",
   "execution_count": null,
   "metadata": {},
   "outputs": [],
   "source": [
    "# Map weights for the first principal component to corresponding feature names\n",
    "# and then print the linked values, sorted by weight.\n",
    "# HINT: Try defining a function here or in a new cell that you can reuse in the\n",
    "# other cells.\n",
    "\n"
   ]
  },
  {
   "cell_type": "code",
   "execution_count": null,
   "metadata": {},
   "outputs": [],
   "source": [
    "# Map weights for the second principal component to corresponding feature names\n",
    "# and then print the linked values, sorted by weight.\n",
    "\n"
   ]
  },
  {
   "cell_type": "code",
   "execution_count": null,
   "metadata": {},
   "outputs": [],
   "source": [
    "# Map weights for the third principal component to corresponding feature names\n",
    "# and then print the linked values, sorted by weight.\n",
    "\n"
   ]
  },
  {
   "cell_type": "markdown",
   "metadata": {},
   "source": [
    "### Discussion 2.3: Interpret Principal Components\n",
    "\n",
    "(Double-click this cell and replace this text with your own text, reporting your observations from detailed investigation of the first few principal components generated. Can we interpret positive and negative values from them in a meaningful way?)"
   ]
  },
  {
   "cell_type": "markdown",
   "metadata": {},
   "source": [
    "## Step 3: Clustering\n",
    "\n",
    "### Step 3.1: Apply Clustering to General Population\n",
    "\n",
    "You've assessed and cleaned the demographics data, then scaled and transformed them. Now, it's time to see how the data clusters in the principal components space. In this substep, you will apply k-means clustering to the dataset and use the average within-cluster distances from each point to their assigned cluster's centroid to decide on a number of clusters to keep.\n",
    "\n",
    "- Use sklearn's [KMeans](http://scikit-learn.org/stable/modules/generated/sklearn.cluster.KMeans.html#sklearn.cluster.KMeans) class to perform k-means clustering on the PCA-transformed data.\n",
    "- Then, compute the average difference from each point to its assigned cluster's center. **Hint**: The KMeans object's `.score()` method might be useful here, but note that in sklearn, scores tend to be defined so that larger is better. Try applying it to a small, toy dataset, or use an internet search to help your understanding.\n",
    "- Perform the above two steps for a number of different cluster counts. You can then see how the average distance decreases with an increasing number of clusters. However, each additional cluster provides a smaller net benefit. Use this fact to select a final number of clusters in which to group the data. **Warning**: because of the large size of the dataset, it can take a long time for the algorithm to resolve. The more clusters to fit, the longer the algorithm will take. You should test for cluster counts through at least 10 clusters to get the full picture, but you shouldn't need to test for a number of clusters above about 30.\n",
    "- Once you've selected a final number of clusters to use, re-fit a KMeans instance to perform the clustering operation. Make sure that you also obtain the cluster assignments for the general demographics data, since you'll be using them in the final Step 3.3."
   ]
  },
  {
   "cell_type": "code",
   "execution_count": null,
   "metadata": {},
   "outputs": [],
   "source": [
    "# Over a number of different cluster counts...\n",
    "\n",
    "\n",
    "    # run k-means clustering on the data and...\n",
    "    \n",
    "    \n",
    "    # compute the average within-cluster distances.\n",
    "    \n",
    "    "
   ]
  },
  {
   "cell_type": "code",
   "execution_count": null,
   "metadata": {},
   "outputs": [],
   "source": [
    "# Investigate the change in within-cluster distance across number of clusters.\n",
    "# HINT: Use matplotlib's plot function to visualize this relationship.\n",
    "\n"
   ]
  },
  {
   "cell_type": "code",
   "execution_count": null,
   "metadata": {},
   "outputs": [],
   "source": [
    "# Re-fit the k-means model with the selected number of clusters and obtain\n",
    "# cluster predictions for the general population demographics data.\n",
    "\n"
   ]
  },
  {
   "cell_type": "markdown",
   "metadata": {},
   "source": [
    "### Discussion 3.1: Apply Clustering to General Population\n",
    "\n",
    "(Double-click this cell and replace this text with your own text, reporting your findings and decisions regarding clustering. Into how many clusters have you decided to segment the population?)"
   ]
  },
  {
   "cell_type": "markdown",
   "metadata": {},
   "source": [
    "### Step 3.2: Apply All Steps to the Customer Data\n",
    "\n",
    "Now that you have clusters and cluster centers for the general population, it's time to see how the customer data maps on to those clusters. Take care to not confuse this for re-fitting all of the models to the customer data. Instead, you're going to use the fits from the general population to clean, transform, and cluster the customer data. In the last step of the project, you will interpret how the general population fits apply to the customer data.\n",
    "\n",
    "- Don't forget when loading in the customers data, that it is semicolon (`;`) delimited.\n",
    "- Apply the same feature wrangling, selection, and engineering steps to the customer demographics using the `clean_data()` function you created earlier. (You can assume that the customer demographics data has similar meaning behind missing data patterns as the general demographics data.)\n",
    "- Use the sklearn objects from the general demographics data, and apply their transformations to the customers data. That is, you should not be using a `.fit()` or `.fit_transform()` method to re-fit the old objects, nor should you be creating new sklearn objects! Carry the data through the feature scaling, PCA, and clustering steps, obtaining cluster assignments for all of the data in the customer demographics data."
   ]
  },
  {
   "cell_type": "code",
   "execution_count": null,
   "metadata": {},
   "outputs": [],
   "source": [
    "# Load in the customer demographics data.\n",
    "customers = "
   ]
  },
  {
   "cell_type": "code",
   "execution_count": null,
   "metadata": {},
   "outputs": [],
   "source": [
    "# Apply preprocessing, feature transformation, and clustering from the general\n",
    "# demographics onto the customer data, obtaining cluster predictions for the\n",
    "# customer demographics data.\n",
    "\n"
   ]
  },
  {
   "cell_type": "markdown",
   "metadata": {},
   "source": [
    "### Step 3.3: Compare Customer Data to Demographics Data\n",
    "\n",
    "At this point, you have clustered data based on demographics of the general population of Germany, and seen how the customer data for a mail-order sales company maps onto those demographic clusters. In this final substep, you will compare the two cluster distributions to see where the strongest customer base for the company is.\n",
    "\n",
    "Consider the proportion of persons in each cluster for the general population, and the proportions for the customers. If we think the company's customer base to be universal, then the cluster assignment proportions should be fairly similar between the two. If there are only particular segments of the population that are interested in the company's products, then we should see a mismatch from one to the other. If there is a higher proportion of persons in a cluster for the customer data compared to the general population (e.g. 5% of persons are assigned to a cluster for the general population, but 15% of the customer data is closest to that cluster's centroid) then that suggests the people in that cluster to be a target audience for the company. On the other hand, the proportion of the data in a cluster being larger in the general population than the customer data (e.g. only 2% of customers closest to a population centroid that captures 6% of the data) suggests that group of persons to be outside of the target demographics.\n",
    "\n",
    "Take a look at the following points in this step:\n",
    "\n",
    "- Compute the proportion of data points in each cluster for the general population and the customer data. Visualizations will be useful here: both for the individual dataset proportions, but also to visualize the ratios in cluster representation between groups. Seaborn's [`countplot()`](https://seaborn.pydata.org/generated/seaborn.countplot.html) or [`barplot()`](https://seaborn.pydata.org/generated/seaborn.barplot.html) function could be handy.\n",
    "  - Recall the analysis you performed in step 1.1.3 of the project, where you separated out certain data points from the dataset if they had more than a specified threshold of missing values. If you found that this group was qualitatively different from the main bulk of the data, you should treat this as an additional data cluster in this analysis. Make sure that you account for the number of data points in this subset, for both the general population and customer datasets, when making your computations!\n",
    "- Which cluster or clusters are overrepresented in the customer dataset compared to the general population? Select at least one such cluster and infer what kind of people might be represented by that cluster. Use the principal component interpretations from step 2.3 or look at additional components to help you make this inference. Alternatively, you can use the `.inverse_transform()` method of the PCA and StandardScaler objects to transform centroids back to the original data space and interpret the retrieved values directly.\n",
    "- Perform a similar investigation for the underrepresented clusters. Which cluster or clusters are underrepresented in the customer dataset compared to the general population, and what kinds of people are typified by these clusters?"
   ]
  },
  {
   "cell_type": "code",
   "execution_count": null,
   "metadata": {},
   "outputs": [],
   "source": [
    "# Compare the proportion of data in each cluster for the customer data to the\n",
    "# proportion of data in each cluster for the general population.\n",
    "\n"
   ]
  },
  {
   "cell_type": "code",
   "execution_count": null,
   "metadata": {},
   "outputs": [],
   "source": [
    "# What kinds of people are part of a cluster that is overrepresented in the\n",
    "# customer data compared to the general population?\n",
    "\n"
   ]
  },
  {
   "cell_type": "code",
   "execution_count": null,
   "metadata": {},
   "outputs": [],
   "source": [
    "# What kinds of people are part of a cluster that is underrepresented in the\n",
    "# customer data compared to the general population?\n",
    "\n"
   ]
  },
  {
   "cell_type": "markdown",
   "metadata": {},
   "source": [
    "### Discussion 3.3: Compare Customer Data to Demographics Data\n",
    "\n",
    "(Double-click this cell and replace this text with your own text, reporting findings and conclusions from the clustering analysis. Can we describe segments of the population that are relatively popular with the mail-order company, or relatively unpopular with the company?)"
   ]
  },
  {
   "cell_type": "markdown",
   "metadata": {},
   "source": [
    "> Congratulations on making it this far in the project! Before you finish, make sure to check through the entire notebook from top to bottom to make sure that your analysis follows a logical flow and all of your findings are documented in **Discussion** cells. Once you've checked over all of your work, you should export the notebook as an HTML document to submit for evaluation. You can do this from the menu, navigating to **File -> Download as -> HTML (.html)**. You will submit both that document and this notebook for your project submission."
   ]
  },
  {
   "cell_type": "code",
   "execution_count": null,
   "metadata": {},
   "outputs": [],
   "source": []
  }
 ],
 "metadata": {
  "kernelspec": {
   "display_name": "Python 3",
   "language": "python",
   "name": "python3"
  },
  "language_info": {
   "codemirror_mode": {
    "name": "ipython",
    "version": 3
   },
   "file_extension": ".py",
   "mimetype": "text/x-python",
   "name": "python",
   "nbconvert_exporter": "python",
   "pygments_lexer": "ipython3",
   "version": "3.6.3"
  }
 },
 "nbformat": 4,
 "nbformat_minor": 2
}
