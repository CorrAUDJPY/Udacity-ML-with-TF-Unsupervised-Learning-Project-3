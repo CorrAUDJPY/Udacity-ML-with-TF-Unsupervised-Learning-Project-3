{
 "cells": [
  {
   "cell_type": "markdown",
   "metadata": {},
   "source": [
    "# Project: Identify Customer Segments\n",
    "\n",
    "In this project, you will apply unsupervised learning techniques to identify segments of the population that form the core customer base for a mail-order sales company in Germany. These segments can then be used to direct marketing campaigns towards audiences that will have the highest expected rate of returns. The data that you will use has been provided by our partners at Bertelsmann Arvato Analytics, and represents a real-life data science task.\n",
    "\n",
    "This notebook will help you complete this task by providing a framework within which you will perform your analysis steps. In each step of the project, you will see some text describing the subtask that you will perform, followed by one or more code cells for you to complete your work. **Feel free to add additional code and markdown cells as you go along so that you can explore everything in precise chunks.** The code cells provided in the base template will outline only the major tasks, and will usually not be enough to cover all of the minor tasks that comprise it.\n",
    "\n",
    "It should be noted that while there will be precise guidelines on how you should handle certain tasks in the project, there will also be places where an exact specification is not provided. **There will be times in the project where you will need to make and justify your own decisions on how to treat the data.** These are places where there may not be only one way to handle the data. In real-life tasks, there may be many valid ways to approach an analysis task. One of the most important things you can do is clearly document your approach so that other scientists can understand the decisions you've made.\n",
    "\n",
    "At the end of most sections, there will be a Markdown cell labeled **Discussion**. In these cells, you will report your findings for the completed section, as well as document the decisions that you made in your approach to each subtask. **Your project will be evaluated not just on the code used to complete the tasks outlined, but also your communication about your observations and conclusions at each stage.**"
   ]
  },
  {
   "cell_type": "code",
   "execution_count": null,
   "metadata": {},
   "outputs": [],
   "source": [
    "# import libraries here; add more as necessary\n",
    "import numpy as np\n",
    "import pandas as pd\n",
    "import matplotlib.pyplot as plt\n",
    "import seaborn as sns\n",
    "\n",
    "# magic word for producing visualizations in notebook\n",
    "%matplotlib inline\n",
    "\n",
    "from sklearn.preprocessing import OneHotEncoder,StandardScaler\n",
    "from sklearn.decomposition import PCA\n",
    "from sklearn.cluster import KMeans\n",
    " \n"
   ]
  },
  {
   "cell_type": "markdown",
   "metadata": {},
   "source": [
    "### Step 0: Load the Data\n",
    "\n",
    "There are four files associated with this project (not including this one):\n",
    "\n",
    "- `Udacity_AZDIAS_Subset.csv`: Demographics data for the general population of Germany; 891211 persons (rows) x 85 features (columns).\n",
    "- `Udacity_CUSTOMERS_Subset.csv`: Demographics data for customers of a mail-order company; 191652 persons (rows) x 85 features (columns).\n",
    "- `Data_Dictionary.md`: Detailed information file about the features in the provided datasets.\n",
    "- `AZDIAS_Feature_Summary.csv`: Summary of feature attributes for demographics data; 85 features (rows) x 4 columns\n",
    "\n",
    "Each row of the demographics files represents a single person, but also includes information outside of individuals, including information about their household, building, and neighborhood. You will use this information to cluster the general population into groups with similar demographic properties. Then, you will see how the people in the customers dataset fit into those created clusters. The hope here is that certain clusters are over-represented in the customers data, as compared to the general population; those over-represented clusters will be assumed to be part of the core userbase. This information can then be used for further applications, such as targeting for a marketing campaign.\n",
    "\n",
    "To start off with, load in the demographics data for the general population into a pandas DataFrame, and do the same for the feature attributes summary. Note for all of the `.csv` data files in this project: they're semicolon (`;`) delimited, so you'll need an additional argument in your [`read_csv()`](https://pandas.pydata.org/pandas-docs/stable/generated/pandas.read_csv.html) call to read in the data properly. Also, considering the size of the main dataset, it may take some time for it to load completely.\n",
    "\n",
    "Once the dataset is loaded, it's recommended that you take a little bit of time just browsing the general structure of the dataset and feature summary file. You'll be getting deep into the innards of the cleaning in the first major step of the project, so gaining some general familiarity can help you get your bearings."
   ]
  },
  {
   "cell_type": "code",
   "execution_count": null,
   "metadata": {},
   "outputs": [],
   "source": [
    "# Load in the general demographics data.\n",
    "azdias = pd.read_csv('Udacity_AZDIAS_Subset.csv' , delimiter=';')\n",
    "\n",
    "# Load in the feature summary file.\n",
    "feat_info = pd.read_csv('AZDIAS_Feature_Summary.csv' , delimiter=';')"
   ]
  },
  {
   "cell_type": "code",
   "execution_count": null,
   "metadata": {},
   "outputs": [],
   "source": [
    "#### Have a first look at the data\n",
    "num_of_columns=azdias.shape[1]\n",
    "num_of_rows=azdias.shape[0]\n",
    "total_obs=azdias.size\n",
    "print('Cust File: Total Num Obs:' ,total_obs, ' Num Rows:', num_of_rows,' Num Cols:', num_of_columns)\n",
    "\n",
    "#Find number fo NaNs before special pre-processing\n",
    "total_nan_initial_count=azdias.isna().sum().sum()\n",
    "initial_ratio_of_nan_to_total_obs=total_nan_initial_count/total_obs\n",
    "\n",
    "print('Pandas can identify at inception {} missing values.This is {:02.2f}% of total obs'.format(total_nan_initial_count,initial_ratio_of_nan_to_total_obs*100))\n"
   ]
  },
  {
   "cell_type": "markdown",
   "metadata": {},
   "source": [
    "> **Tip**: Add additional cells to keep everything in reasonably-sized chunks! Keyboard shortcut `esc --> a` (press escape to enter command mode, then press the 'A' key) adds a new cell before the active cell, and `esc --> b` adds a new cell after the active cell. If you need to convert an active cell to a markdown cell, use `esc --> m` and to convert to a code cell, use `esc --> y`. \n",
    "\n",
    "## Step 1: Preprocessing\n",
    "\n",
    "### Step 1.1: Assess Missing Data\n",
    "\n",
    "The feature summary file contains a summary of properties for each demographics data column. \n",
    "You will use this file to help you make cleaning decisions during this stage of the project. \n",
    "First of all, you should assess the demographics data in terms of missing data. \n",
    "Pay attention to the following points as you perform your analysis, and take notes on what you observe. \n",
    "Make sure that you fill in the **Discussion** cell with your findings and decisions at the end of each step that has one!\n",
    "\n",
    "#### Step 1.1.1: Convert Missing Value Codes to NaNs\n",
    "The *fourth column* of the feature attributes summary (loaded in above as `feat_info`) documents the codes from the data dictionary that indicate missing or unknown data.  \n",
    "While the file encodes this as a list (e.g. `[-1,0]`), this will get read in as a *string* object.  \n",
    "You'll need to do a little bit of parsing to make use of it to identify and clean the data.  \n",
    "Convert data that matches a **'missing' or 'unknown'** value code into a numpy **NaN** value.  \n",
    "You might want to see how much data takes on a 'missing' or 'unknown' code, and how much data is naturally missing, as a point of interest.\n",
    "\n",
    "**As one more reminder, you are encouraged to add additional cells to break up your analysis into manageable chunks.**"
   ]
  },
  {
   "cell_type": "markdown",
   "metadata": {},
   "source": [
    "**The code below has been based on the response of one of the Udacity mentors to my question on the topic!!!!!!!!**\n",
    "https://towardsdatascience.com/all-about-categorical-variable-encoding-305f3361fd02\n",
    "https://towardsdatascience.com/encoding-categorical-variables-in-machine-learning-5644a43c123f\n",
    "\n",
    "I created a function convert_features_info_string_to_list(s) below to re-use it \n",
    "The function is based on the response of one of the Udacity mentors\n",
    "https://knowledge.udacity.com/questions/334122"
   ]
  },
  {
   "cell_type": "code",
   "execution_count": null,
   "metadata": {},
   "outputs": [],
   "source": [
    "# read string s, and return a list of integers with the encodings of mising values\n",
    "def convert_features_info_string_to_list(s):\n",
    "    '''\n",
    "    Reads in string s\n",
    "    Returns a list containing integers (if it can)\n",
    "       or strings, if it can't .  i.e. if it reads in 'X', it cannot convert the 'X'\n",
    "        '''\n",
    "    new_list=[]\n",
    "    s_clean=s.strip('[]').split(',')\n",
    "    # The below line removes the '[]' and splits on ',', creating a list of strings\n",
    "   \n",
    "    for i in s_clean:\n",
    "        try:\n",
    "            new_list.append( int(i) )\n",
    "        except:\n",
    "                new_list.append( i )\n",
    "    \n",
    "    return( new_list )"
   ]
  },
  {
   "cell_type": "code",
   "execution_count": null,
   "metadata": {},
   "outputs": [],
   "source": [
    "#Applying the function\n",
    "#we feed each string of the 4th column, one at a time to _convert_features_info_string_to_list_ function\n",
    "#  and receive back a list\n",
    "    \n",
    "feat_info['NA_tags'] = feat_info['missing_or_unknown'].apply(convert_features_info_string_to_list)\n"
   ]
  },
  {
   "cell_type": "code",
   "execution_count": null,
   "metadata": {},
   "outputs": [],
   "source": [
    "#check if we succesfully converted those entries into lists\n",
    "feat_info['NA_tags'].head(4)"
   ]
  },
  {
   "cell_type": "markdown",
   "metadata": {},
   "source": [
    "Let's insert NA values into our DataFrame if they are tagged as NA in the \"NA_tags\" column.\n"
   ]
  },
  {
   "cell_type": "code",
   "execution_count": null,
   "metadata": {
    "scrolled": false
   },
   "outputs": [],
   "source": [
    "# Using a nearly identical copy of the feat_info DF with the attributes as the index\n",
    "att_index = feat_info.set_index('attribute')\n"
   ]
  },
  {
   "cell_type": "code",
   "execution_count": null,
   "metadata": {},
   "outputs": [],
   "source": [
    "# Create a copy of the demographics data to work with to be the version with NA's inserted\n",
    "#This is what we will use for our analysis down the road\n",
    "na_azdias = azdias[:]"
   ]
  },
  {
   "cell_type": "markdown",
   "metadata": {},
   "source": [
    "**Replace it inplace with np.Nan**  \n",
    "Below we can look through each column, using the att_index DataFrame as a reference to encode our NA values.   \n",
    "We needed the features to be the index of the dataframe in order to use .loc to retrieve each column's respective list of NA codes. \n",
    "So, we Loop through our column names    \n",
    "For every column in our DF,   \n",
    "    ..... if a value is in the 'NA_tags' list,  \n",
    "         ........we REPLACE it inplace with np.NaN\n"
   ]
  },
  {
   "cell_type": "code",
   "execution_count": null,
   "metadata": {},
   "outputs": [],
   "source": [
    "#creadte new AZDIAS with the enriched 'nan' info\n",
    "na_azdias=azdias[:]\n",
    "\n",
    "for column in na_azdias.columns:\n",
    "    #print('in column {}, replace {} with Nan'.format(  column , att_index.loc[column].loc['NA_tags']  )  )\n",
    "    na_azdias[column].replace( att_index.loc[column].loc['NA_tags'], np.nan, inplace=True)\n",
    "    "
   ]
  },
  {
   "cell_type": "code",
   "execution_count": null,
   "metadata": {},
   "outputs": [],
   "source": [
    "#  Find number fo NaNs before special pre-processing\n",
    "total_nan_after_before_processing=azdias.isna().sum().sum()\n",
    "total_nan_after_pre_processing=na_azdias.isna().sum().sum()\n",
    "\n",
    "print('Total NaNs before pre-processing step:{}, after pre-processing{}:'.format(total_nan_after_before_processing,\n",
    "      total_nan_after_pre_processing)  )"
   ]
  },
  {
   "cell_type": "markdown",
   "metadata": {},
   "source": [
    "#### Step 1.1.2: Assess Missing Data in Each Column\n",
    "How much missing data is present in each column? \n",
    "There are a few columns that are outliers in terms of the proportion of values that are missing. \n",
    "You will want to use matplotlib's [`hist()`](https://matplotlib.org/api/_as_gen/matplotlib.pyplot.hist.html) function to visualize the distribution of missing value counts to find these columns.\n",
    "\n",
    "Identify and document these columns. \n",
    "While some of these columns might have justifications for keeping or re-encoding the data, for this project you should just remove them from the dataframe. \n",
    "\n",
    "(Feel free to make remarks about these outlier columns in the discussion, however!)\n",
    "\n",
    "For the remaining features, are there any patterns in which columns have, or share, missing data?"
   ]
  },
  {
   "cell_type": "code",
   "execution_count": null,
   "metadata": {},
   "outputs": [],
   "source": [
    "# Investigate patterns in the amount of missing data in each column.\n",
    "# Creating a copy of the DF containing the counts of NAs with the names of the columns in the original DF as a column\n",
    "azdias_num_of_nas = na_azdias.isna().sum().reset_index()\n",
    "azdias_num_of_nas.sort_values(by=0, ascending=False,inplace=True)\n",
    "\n",
    "# Filtering for only columns with more than 50000 NA values to declutter the plot\n",
    "cols_with_50k_nas = azdias_num_of_nas[azdias_num_of_nas[0]>50000]\n",
    "cols_with_50k_nas.sort_values(by=0,ascending=True,inplace=True)\n",
    "\n",
    "azdias_num_of_nas.head(10)"
   ]
  },
  {
   "cell_type": "code",
   "execution_count": null,
   "metadata": {},
   "outputs": [],
   "source": [
    "plt.figure(figsize=(6,12))\n",
    "barh = plt.barh(cols_with_50k_nas['index'],cols_with_50k_nas[0],color = 'darkturquoise', alpha = 0.85)\n",
    "\n",
    "for i in range(7):    \n",
    "    barh[-i].set_color('darkred')\n",
    "plt.tight_layout()\n"
   ]
  },
  {
   "cell_type": "code",
   "execution_count": null,
   "metadata": {},
   "outputs": [],
   "source": [
    "# Remove the outlier columns from the dataset. (You'll perform other data\n",
    "# engineering tasks such as re-encoding and imputation later.)\n",
    "\n",
    "remove_columns = ['KBA05_BAUMAX','KK_KUNDENTYP','ALTER_HH','TITEL_KZ','GEBURTSJAHR','AGER_TYP']\n",
    "\n",
    "na_azdias.drop(labels=remove_columns,axis=1,inplace=True)\n",
    "\n",
    "#removed these 6 columns that we dropped from the feat_info df, to avoid errors later in the analysis\n",
    "feat_info = feat_info.set_index('attribute').drop( remove_columns ).reset_index()\n",
    "nan_left_after_rem_topnan_cols=na_azdias.isna().sum().sum()\n",
    "print('After we remove Cols with too many NAs, we are left with : ' ,  nan_left_after_rem_topnan_cols )\n",
    "\n"
   ]
  },
  {
   "cell_type": "markdown",
   "metadata": {},
   "source": [
    "#### Discussion 1.1.2: Assess Missing Data in Each Column\n",
    "\n",
    "1.  Prior to performing ny data specific pre-processing, the pandas .isna() method recognized **4,896,838** NAs.\n",
    "2. After we explicitly encoded NAs using the feat_info['missing_or_unknown'] we got  8,373,929 NAs.\n",
    "\n",
    "Then we created a barchart of the Number of NAs per column.  the following columns topped the NAs list\n",
    "['KBA05_BAUMAX','KK_KUNDENTYP','ALTER_HH','TITEL_KZ','GEBURTSJAHR','AGER_TYP']\n",
    "\n",
    "3. Then we dropped the 6 columns with the biggest number of NAs, we were left with  5,035,304 NAs.\n",
    "\n",
    "4. Finally we removed these 6 columns that we dropped from the feat_info df, to avoid errors later in the analysis\n"
   ]
  },
  {
   "cell_type": "markdown",
   "metadata": {},
   "source": [
    "#### Step 1.1.3: Assess Missing Data in Each Row\n",
    "\n",
    "Now, you'll perform a similar assessment for the rows of the dataset. How much data is missing in each row? As with the columns, you should see some groups of points that have a very different numbers of missing values.  \n",
    "Divide the data into **two subsets**: \n",
    "    - one for data points that are **above** some threshold for missing values, and \n",
    "    - a second subset for points **below** that threshold.\n",
    "\n",
    "In order to know what to do with the outlier rows, we should see if the distribution of data values on columns that are not missing data (or are missing very little data) are similar or different between the two groups. Select at least five of these columns and compare the distribution of values.\n",
    "- You can use **seaborn's [`countplot()`](https://seaborn.pydata.org/generated/seaborn.countplot.html)**function to create a bar chart of code frequencies and matplotlib's [`subplot()`](https://matplotlib.org/api/_as_gen/matplotlib.pyplot.subplot.html) function to put bar charts for the two subplots side by side.\n",
    "- To reduce repeated code, you might want to write a function that can perform this comparison, taking as one of its arguments a column to be compared.\n",
    "\n",
    "Depending on what you observe in your comparison, this will have implications on how you approach your conclusions later in the analysis. If the distributions of non-missing features look similar between the data with many missing values and the data with few or no missing values, then we could argue that simply dropping those points from the analysis won't present a major issue. On the other hand, if the data with many missing values looks very different from the data with few or no missing values, then we should make a note on those data as special. We'll revisit these data later on. **Either way, you should continue your analysis for now using just the subset of the data with few or no missing values.**"
   ]
  },
  {
   "cell_type": "code",
   "execution_count": null,
   "metadata": {},
   "outputs": [],
   "source": [
    "# How much data is missing in each row of the dataset?\n",
    "# we add a row to store the number of NAs per each row\n",
    "na_azdias['num_of_nas_byrow'] = na_azdias.isna().sum(axis=1)\n"
   ]
  },
  {
   "cell_type": "markdown",
   "metadata": {},
   "source": [
    "we plot the counts of NAs in the various rows"
   ]
  },
  {
   "cell_type": "code",
   "execution_count": null,
   "metadata": {},
   "outputs": [],
   "source": [
    "azdias_rows_with_nans=na_azdias[na_azdias['num_of_nas_byrow']>0]\n",
    "plt.hist(  azdias_rows_with_nans['num_of_nas_byrow'] , bins=10)"
   ]
  },
  {
   "cell_type": "markdown",
   "metadata": {},
   "source": [
    "We notice a bi-modal NAs distribution.\n",
    "with 30 NAs dividing the two modes"
   ]
  },
  {
   "cell_type": "code",
   "execution_count": null,
   "metadata": {},
   "outputs": [],
   "source": [
    "# Write code to divide the data into two subsets based on the number of missing\n",
    "# values in each row.\n",
    "azdias_less_than_30_nasperrow = na_azdias[  na_azdias['num_of_nas_byrow']<=30]\n",
    "azdias_more_than_30_nasperrow = na_azdias[na_azdias['num_of_nas_byrow']>30]\n",
    "\n",
    "#since i expect many rows to have 0 NAs, i will make this a seperate category\n",
    "azdias_with_1to30_nasperrow = na_azdias[  (na_azdias['num_of_nas_byrow'] >0) & (na_azdias['num_of_nas_byrow'] <=30) ]\n",
    "azdias_with_1to30_nasperrow.head()"
   ]
  },
  {
   "cell_type": "code",
   "execution_count": null,
   "metadata": {},
   "outputs": [],
   "source": [
    "# Compare the distribution of values for at least five columns where there are\n",
    "# no or few missing values, between the two subsets.\n",
    "def plot_sideby_side(df1,df2,col_name,title1,title2):\n",
    "    \n",
    "    fig,(ax1,ax2) = plt.subplots(1,2, figsize=(10,5))\n",
    "    sns.countplot(df1[col_name], ax=ax1)\n",
    "    sns.countplot(df2[col_name], ax=ax2)\n",
    "    ax1.set_title(title1)\n",
    "    ax2.set_title(title2)\n"
   ]
  },
  {
   "cell_type": "code",
   "execution_count": null,
   "metadata": {},
   "outputs": [],
   "source": [
    "# call the function\n",
    "plot_sideby_side(  df1=azdias_with_1to30_nasperrow,  df2=azdias_more_than_30_nasperrow ,  col_name='num_of_nas_byrow',title1='Rows with # NAs <30]',title2='Rows with #NAs for >30')"
   ]
  },
  {
   "cell_type": "markdown",
   "metadata": {},
   "source": [
    "######Decide to keep the row with ZERO missing values"
   ]
  },
  {
   "cell_type": "code",
   "execution_count": null,
   "metadata": {},
   "outputs": [],
   "source": [
    "num_of_rows_with_nas=na_azdias[  na_azdias['num_of_nas_byrow']>0  ].shape[0]\n",
    "num_of_rows_with_0_nas=na_azdias[  na_azdias['num_of_nas_byrow']==0  ].shape[0]\n",
    "total_rows=num_of_rows_with_nas+num_of_rows_with_0_nas\n",
    "\n",
    "ratio_of_rows_with_zero_nan=num_of_rows_with_0_nas/total_rows\n",
    "\n",
    "print('total rows:',num_of_rows_with_0_nas+num_of_rows_with_nas)\n",
    "print('Total rows with non-zero missing values',num_of_rows_with_nas)\n",
    "print('Total rows with zero missing values',num_of_rows_with_0_nas)\n",
    "print('% rows with zero missing values',ratio_of_rows_with_zero_nan)\n"
   ]
  },
  {
   "cell_type": "markdown",
   "metadata": {},
   "source": [
    "#### Discussion 1.1.3: Assess Missing Data in Each Row\n",
    "(Double-click this cell and replace this text with your own text, reporting your observations regarding missing data in rows. Are the data with lots of missing values are qualitatively different from data with few or no missing values?)\n",
    "\n",
    "1. After we plotted the distribution of '# of NAs by row',  we notice a bi-modal NAs distribution, with the 2 modes seperating around 30.\n",
    "2.For the 'low number of NAs part of the dist'n, we see that most have 0 NAs\n",
    "3. For this reason i also plot the dist'n of points that are strictly above 1 and below 30\n",
    "4. It is surprising to see how many rows have 47 NAs (same for 43 NAs).\n",
    "\n",
    "There are 891,221 rows in total\n",
    "There are 268012 rows with any missing values, and 623209 rows with zero missing values.\n",
    "Thats 70% of rows have no missing values.\n",
    "#### 5. Going forward I will DROP ALL ROWS with ANY missing values\n"
   ]
  },
  {
   "cell_type": "code",
   "execution_count": null,
   "metadata": {},
   "outputs": [],
   "source": [
    "# this will be the data frame i will be using going forward\n",
    "azdias_working_df = na_azdias[  na_azdias['num_of_nas_byrow']==0  ]\n",
    "azdias_working_df.drop('num_of_nas_byrow', inplace=True, axis=1)\n"
   ]
  },
  {
   "cell_type": "markdown",
   "metadata": {},
   "source": [
    "### Step 1.2: Select and Re-Encode Features\n",
    "\n",
    "Checking for missing data isn't the only way in which you can prepare a dataset for analysis. Since the unsupervised learning techniques to be used will only work on data that is encoded numerically, you need to make a few encoding changes or additional assumptions to be able to make progress. In addition, while almost all of the values in the dataset are encoded using numbers, not all of them represent numeric values. Check the third column of the feature summary (`feat_info`) for a summary of types of measurement.\n",
    "- For numeric and interval data, these features can be kept without changes.\n",
    "- Most of the variables in the dataset are ordinal in nature. While ordinal values may technically be non-linear in spacing, make the simplifying assumption that the ordinal variables can be treated as being interval in nature (that is, kept without any changes).\n",
    "- **Special handling** may be necessary for the remaining two variable types: **categorical, and 'mixed'**.\n",
    "\n",
    "In the first two parts of this sub-step, you will perform an investigation of the categorical and mixed-type features and make a decision on each of them, whether you will keep, drop, or re-encode each. Then, in the last part, you will create a new data frame with only the selected and engineered columns.\n",
    "\n",
    "Data wrangling is often the trickiest part of the data analysis process, and there's a lot of it to be done here. But stick with it: once you're done with this step, you'll be ready to get to the machine learning parts of the project!"
   ]
  },
  {
   "cell_type": "code",
   "execution_count": null,
   "metadata": {},
   "outputs": [],
   "source": [
    "# How many features are there of each data type?\n",
    "feat_info['type'].value_counts()"
   ]
  },
  {
   "cell_type": "markdown",
   "metadata": {},
   "source": [
    "lets make a list of which attributes below to each type of variable type\n",
    "We will make a dictionary to store them\n",
    "Of course we are mostly interested in 'mixed' and 'categorical' attributes"
   ]
  },
  {
   "cell_type": "code",
   "execution_count": null,
   "metadata": {},
   "outputs": [],
   "source": [
    "azdias_datatype_of_features={}\n",
    "datatypes=['mixed','categorical','numeric','ordinal']\n",
    "\n",
    "for d in datatypes:\n",
    "    azdias_datatype_of_features[d]=feat_info[  feat_info['type']==d ]['attribute']"
   ]
  },
  {
   "cell_type": "markdown",
   "metadata": {},
   "source": [
    "#### Step 1.2.1: Re-Encode Categorical Features\n",
    "\n",
    "For categorical data, you would ordinarily need to encode the levels as dummy variables.  \n",
    "Depending on the number of categories, perform one of the following:\n",
    "- For binary (two-level) categoricals that take numeric values, you can keep them without needing to do anything.\n",
    "- There is one binary variable that takes on non-numeric values. For this one, you need to re-encode the values as numbers or create a dummy variable.\n",
    "- For multi-level categoricals (three or more values), you can choose to encode the values using multiple dummy variables (e.g. via [OneHotEncoder](http://scikit-learn.org/stable/modules/generated/sklearn.preprocessing.OneHotEncoder.html)), or (to keep things straightforward) just drop them from the analysis. As always, document your choices in the Discussion section."
   ]
  },
  {
   "cell_type": "code",
   "execution_count": null,
   "metadata": {},
   "outputs": [],
   "source": [
    "# Split the categorical features into (i) Binary, (ii) Multi-level\n",
    "#for some reason 'elif' would not work for me, so i had to split into 2 'if' statements\n",
    "categorical_cols_in_na_azdias=azdias_working_df[ azdias_datatype_of_features['categorical']]\n",
    "\n",
    "multi_level_categorical=[]\n",
    "binary_categorical=[]\n",
    "\n",
    "for column in categorical_cols_in_na_azdias.columns:\n",
    "        #get the current columns\n",
    "        curr_col=categorical_cols_in_na_azdias[column]\n",
    "        \n",
    "        #select and count the unique, non NA values\n",
    "        unique_values= curr_col[curr_col.notna()].unique()\n",
    "        count_unique_values= len( unique_values )\n",
    "        \n",
    "        if count_unique_values >2:\n",
    "            multi_level_categorical.append(column)\n",
    "        elif count_unique_values ==2:\n",
    "            binary_categorical.append(column)\n",
    "        \n",
    "        print( column,unique_values, count_unique_values )\n",
    "        "
   ]
  },
  {
   "cell_type": "code",
   "execution_count": null,
   "metadata": {
    "scrolled": true
   },
   "outputs": [],
   "source": [
    "# Assess CATEGORICAL variables: which are binary, which are multi-level, and\n",
    "# which one needs to be re-encoded?\n",
    "\n",
    "# Display the BINARY features\n",
    "print('1. The BINARY features are:')\n",
    "for column in binary_categorical:\n",
    "    print(column) \n",
    "    #print(column, azdias_working_df[column].unique()  )\n",
    "\n",
    "# Display the MULTI_LEVEL features\n",
    "print('\\n', '1. The MULTI_LEVEL features are:')\n",
    "for column in multi_level_categorical:\n",
    "    print(column )\n",
    "    #print(column, azdias_working_df[column].unique()  )\n",
    "\n",
    "    # Display the MIXED features\n",
    "print('\\n', '1. The MIXED features are:')\n",
    "for column in azdias_datatype_of_features['mixed']:\n",
    "    #print(column, azdias_working_df[column].unique()  )\n",
    "    print(column )"
   ]
  },
  {
   "cell_type": "markdown",
   "metadata": {},
   "source": [
    "Before proceeding lets take a look at the features and see in what categories they fall:\n",
    "\n",
    "The MULTI_LEVEL features are:\n",
    "1. CJT_GESAMTTYP, SHOPPER_TYP,ZABEOTYP : All capture consumer behavior.  Will keep CJT_GESAMTTYP\n",
    "2. LP_FAMILIE_FEIN, LP_FAMILIE_GROB describe family.  Will drop the former \n",
    "3. LP_STATUS_FEIN, LP_STATUS_GROB : social status.Will drop both.\n",
    "4. FINANZTYP, GFK_URLAUBERTYP, CAMEO_DEUG_2015, CAMEO_DEU_2015: Decided to drop all of these b/c other feaures capture financial ablity\n",
    "5.NATIONALITAET_KZ:Nationality. will keep\n",
    "6.GEBAEUDETYP: Building type. Appears unintuitive. Will drop\n"
   ]
  },
  {
   "cell_type": "code",
   "execution_count": null,
   "metadata": {},
   "outputs": [],
   "source": [
    "remove_multilevel_cols= ['LP_FAMILIE_FEIN', 'ZABEOTYP', 'GEBAEUDETYP', 'LP_STATUS_FEIN', 'FINANZTYP' , 'SHOPPER_TYP' ,\n",
    "              'CAMEO_DEU_2015', 'LP_STATUS_GROB', 'CAMEO_DEUG_2015']\n",
    "\n",
    "azdias_working_df.drop(remove_multilevel_cols , axis=1 , inplace=True)\n"
   ]
  },
  {
   "cell_type": "markdown",
   "metadata": {},
   "source": [
    "I will ONE-HOT-ENCODE the following:  \n",
    "1. the categorical/binomial feature 'OST_WEST_KZ'    \n",
    "2. all the categorical/multilevel features  \n",
    "3. all the mixed features, as they are also categorical -  exlude  PRAEGENDE_JUGENDJAHRE and CAMEO_INTL_2015 for now.\n",
    "  "
   ]
  },
  {
   "cell_type": "code",
   "execution_count": null,
   "metadata": {},
   "outputs": [],
   "source": [
    "# Re-encode categorical variable(s) to be kept in the analysis.\n",
    "encode_these_features=[]\n",
    "encode_these_features.append('OST_WEST_KZ')\n",
    "\n",
    "#add the mixed\n",
    "for col in azdias_datatype_of_features['mixed']:\n",
    "    encode_these_features.append(col)\n",
    "\n",
    "    multi_level_categorical\n",
    "# add categorical/multi-level features\n",
    "for col in multi_level_categorical:\n",
    "    if col not in remove_multilevel_cols:\n",
    "        encode_these_features.append(col)\n",
    "    \n",
    "for i in  encode_these_features:\n",
    "    if   i =='PRAEGENDE_JUGENDJAHRE'    or  i =='CAMEO_INTL_2015'   :\n",
    "        encode_these_features.remove(i)\n",
    "        "
   ]
  },
  {
   "cell_type": "code",
   "execution_count": null,
   "metadata": {},
   "outputs": [],
   "source": [
    "encode_these_features"
   ]
  },
  {
   "cell_type": "code",
   "execution_count": null,
   "metadata": {},
   "outputs": [],
   "source": [
    "#perform one-hot-encoding\n",
    "azdias_working_df = pd.get_dummies(azdias_working_df , columns=encode_these_features )"
   ]
  },
  {
   "cell_type": "markdown",
   "metadata": {},
   "source": [
    "#### Discussion 1.2.1: Re-Encode Categorical Features\n",
    "\n",
    "1.The distribution of columns by type can be seen below  \n",
    "ordinal        49\n",
    "categorical    18  \n",
    "mixed           6  \n",
    "numeric         \n",
    "\n",
    "Within the categorical category,   \n",
    "-the binary features are: 'ANREDE_KZ', 'GREEN_AVANTGARDE', 'SOHO_KZ', 'VERS_TYP', 'OST_WEST_KZ'  \n",
    "Here 'OST_WEST_KZ' required special treatment as it took values W & O.  We map this to {0,1}\n",
    "\n",
    "-The multi-level categorical features are: 'CJT_GESAMTTYP', 'FINANZTYP', 'GFK_URLAUBERTYP', 'LP_FAMILIE_FEIN','LP_FAMILIE_GROB', 'LP_STATUS_FEIN','LP_STATUS_GROB', 'NATIONALITAET_KZ','SHOPPER_TYP','ZABEOTYP','GEBAEUDETYP', 'CAMEO_DEUG_2015', 'CAMEO_DEU_2015'  \n",
    "\n",
    "-The mixed features are: 'LP_LEBENSPHASE_FEIN','LP_LEBENSPHASE_GROB','PRAEGENDE_JUGENDJAHRE','WOHNLAGE','CAMEO_INTL_2015','PLZ8_BAUMAX'\n",
    "\n",
    "I will ENCODE the following:  \n",
    "  1. the categorical/binomial feature 'OST_WEST_KZ'  \n",
    "  2. all the categorical/multilevel features\n",
    "  3. all the mixed features, as they are also categorical -  exlude  PRAEGENDE_JUGENDJAHRE and CAMEO_INTL_2015 for now.\n",
    "  \n",
    " "
   ]
  },
  {
   "cell_type": "markdown",
   "metadata": {},
   "source": [
    "#### Step 1.2.2: Engineer Mixed-Type Features\n",
    "\n",
    "There are a handful of features that are marked as \"mixed\" in the feature summary that require special treatment in order to be included in the analysis. There are two in particular that deserve attention; the handling of the rest are up to your own choices:\n",
    "- \"PRAEGENDE_JUGENDJAHRE\" combines information on three dimensions: generation by decade, movement (mainstream vs. avantgarde), and nation (east vs. west). While there aren't enough levels to disentangle east from west, you should create two new variables to capture the other two dimensions: an interval-type variable for decade, and a binary variable for movement.\n",
    "- \"CAMEO_INTL_2015\" combines information on two axes: wealth and life stage. Break up the two-digit codes by their 'tens'-place and 'ones'-place digits into two new ordinal variables (which, for the purposes of this project, is equivalent to just treating them as their raw numeric values).\n",
    "- If you decide to keep or engineer new features around the other mixed-type features, make sure you note your steps in the Discussion section.\n",
    "\n",
    "Be sure to check `Data_Dictionary.md` for the details needed to finish these tasks."
   ]
  },
  {
   "cell_type": "markdown",
   "metadata": {},
   "source": [
    "PRAEGENDE_JUGENDJAHRE takes values 1-15.  \n",
    "These values correspond to :  \n",
    "        - generation (decade)\n",
    "        - movement (Mainstream/Avantgarde) \n",
    "        -nation (East,West)\n",
    "\n",
    "I will loop through the list, read each number and create an entry for 2 new features:  'decade' and 'movement' \n"
   ]
  },
  {
   "cell_type": "code",
   "execution_count": null,
   "metadata": {},
   "outputs": [],
   "source": [
    "# Investigate  and engineer two new variables.\n",
    "# look at unique levels of feature 'PRAEGENDE_JUGENDJAHRE'\n",
    "#l=list(azdias_working_df['PRAEGENDE_JUGENDJAHRE'].unique())\n",
    "\n",
    "mainstream=[1,3,5,8,10,12,14]\n",
    "avantgarde=[2,4,6,7,9,11,13,15]\n",
    "movement=[]\n",
    "decade=[]\n",
    "\n",
    "for i in azdias_working_df['PRAEGENDE_JUGENDJAHRE']:\n",
    "    ' classify along the movement axis'\n",
    "    if i in mainstream:\n",
    "        movement.append(0)\n",
    "    elif i in avantgarde:\n",
    "        movement.append(1)\n",
    "        \n",
    "    if i in [1,2]:\n",
    "        decade.append(40)\n",
    "    elif i in [3,4]:\n",
    "        decade.append(50)\n",
    "    elif i in [5,6,7]:\n",
    "        decade.append(60)\n",
    "    elif i in [8,9]:\n",
    "        decade.append(70)\n",
    "    elif i in [10,11,12]:\n",
    "        decade.append(80)\n",
    "    elif i in [13,14,15]:\n",
    "        decade.append(90)\n",
    "    else:\n",
    "        decade.append(np.NaN)\n",
    "    \n",
    "azdias_working_df['movement']=movement\n",
    "azdias_working_df['decade']=decade\n"
   ]
  },
  {
   "cell_type": "markdown",
   "metadata": {},
   "source": [
    "CAMEO_INTL_2015 takes values 11-55.  \n",
    "These values correspond to :  \n",
    "        - Wealth  .... mapped by the 10s digit\n",
    "        - Stage in life ..... mapped by the 1s digit\n",
    "\n",
    "Wealth :     [10,20,30,40,50] ----> [1-5 scale]\n",
    "Life Stage:  [1,2,3,4,5]. --->         [1-5 scale]"
   ]
  },
  {
   "cell_type": "code",
   "execution_count": null,
   "metadata": {},
   "outputs": [],
   "source": [
    "# Investigate \"CAMEO_INTL_2015\" and engineer two new variables.\n",
    "# look at unique levels of feature 'CAMEO_INTL_2015'\n",
    "#l=list(azdias_working_df['CAMEO_INTL_2015'].unique())\n",
    "\n",
    "wealth=[]\n",
    "life_stage=[]\n",
    "\n",
    "#azdias_working_df['CAMEO_INTL_2015'].head()\n",
    "for i in azdias_working_df['CAMEO_INTL_2015']:\n",
    "    ones=int(i) % 10\n",
    "    tens = int(i) - ones\n",
    "    \n",
    "    if 10 <= tens <= 19 :\n",
    "        wealth.append(5)\n",
    "    elif 20<=tens<=29:\n",
    "        wealth.append(4)\n",
    "    elif 30<=tens<=39:\n",
    "        wealth.append(3)\n",
    "    elif 40<=tens<=49:\n",
    "        wealth.append(2)\n",
    "    elif 50<=tens<=59:\n",
    "        wealth.append(1)\n",
    "    else:\n",
    "        wealth.append(np.NaN)\n",
    "\n",
    "    life_stage.append(ones)\n",
    "    \n",
    "\n",
    "azdias_working_df['wealth']=wealth\n",
    "azdias_working_df['life_stage']=life_stage\n",
    "\n",
    "\n",
    "azdias_working_df.drop( ['CAMEO_INTL_2015','PRAEGENDE_JUGENDJAHRE'] , axis=1 , inplace=True)"
   ]
  },
  {
   "cell_type": "markdown",
   "metadata": {},
   "source": [
    "#### Discussion 1.2.2: Engineer Mixed-Type Features\n",
    "\n",
    "(Double-click this cell and replace this text with your own text, reporting your findings and decisions regarding mixed-value features. Which ones did you keep, which did you drop, and what engineering steps did you perform?)"
   ]
  },
  {
   "cell_type": "markdown",
   "metadata": {},
   "source": [
    "#### Step 1.2.3: Complete Feature Selection\n",
    "\n",
    "In order to finish this step up, you need to make sure that your data frame now only has the columns that you want to keep. To summarize, the dataframe should consist of the following:\n",
    "- All numeric, interval, and ordinal type columns from the original dataset.\n",
    "- Binary categorical features (all numerically-encoded).\n",
    "- Engineered features from other multi-level categorical features and mixed features.\n",
    "\n",
    "Make sure that for any new columns that you have engineered, that you've excluded the original columns from the final dataset. Otherwise, their values will interfere with the analysis later on the project. For example, you should not keep \"PRAEGENDE_JUGENDJAHRE\", since its values won't be useful for the algorithm: only the values derived from it in the engineered features you created should be retained. As a reminder, your data should only be from **the subset with few or no missing values**."
   ]
  },
  {
   "cell_type": "code",
   "execution_count": null,
   "metadata": {},
   "outputs": [],
   "source": [
    "# If there are other re-engineering tasks you need to perform, make sure you\n",
    "# take care of them here. (Dealing with missing data will come in step 2.1.)\n",
    "for column in azdias_working_df.columns:\n",
    "    print(column, azdias_working_df[column].unique()  )\n",
    "    \n"
   ]
  },
  {
   "cell_type": "code",
   "execution_count": null,
   "metadata": {},
   "outputs": [],
   "source": [
    "# Do whatever you need to in order to ensure that the dataframe only contains\n",
    "# the columns that should be passed to the algorithm functions.\n",
    "\n"
   ]
  },
  {
   "cell_type": "markdown",
   "metadata": {},
   "source": [
    "### Step 1.3: Create a Cleaning Function\n",
    "\n",
    "Even though you've finished cleaning up the general population demographics data, it's important to look ahead to the future and realize that you'll need to perform the same cleaning steps on the customer demographics data. In this substep, complete the function below to execute the main feature selection, encoding, and re-engineering steps you performed above. Then, when it comes to looking at the customer data in Step 3, you can just run this function on that DataFrame to get the trimmed dataset in a single step."
   ]
  },
  {
   "cell_type": "code",
   "execution_count": null,
   "metadata": {},
   "outputs": [],
   "source": [
    "def clean_data(df):\n",
    "    \"\"\"\n",
    "    Perform feature trimming, re-encoding, and engineering for demographics\n",
    "    data\n",
    "    \n",
    "    INPUT: Demographics DataFrame\n",
    "    OUTPUT: Trimmed and cleaned demographics DataFrame\n",
    "    \"\"\"\n",
    "    # Step 0: Print AZDIAS initial stats\n",
    "    num_of_columns=df.shape[1]\n",
    "    num_of_rows=df.shape[0]\n",
    "    total_obs=azdias.size\n",
    "    print('Cust File: Total Num Obs:' ,total_obs, ' Num Rows:', num_of_rows,' Num Cols:', num_of_columns)\n",
    "\n",
    "    #Find number fo NaNs before special pre-processing\n",
    "    total_nan_initial_count=azdias.isna().sum().sum()\n",
    "    initial_ratio_of_nan_to_total_obs=total_nan_initial_count/total_obs\n",
    "    print('Before pre-processing, pandas can identify at inception {} missing values.This is {:02.2f}% of total obs'.format(total_nan_initial_count,initial_ratio_of_nan_to_total_obs*100))\n",
    "\n",
    "    # Step 1:  Read in Feature_Summary file\n",
    "    feat_info = pd.read_csv('AZDIAS_Feature_Summary.csv',';')\n",
    "    \n",
    "    # Put in code here to execute all main cleaning steps:\n",
    "    \n",
    "    # convert missing value codes into NaNs, ...\n",
    "    feat_info['NA_tags'] = feat_info['missing_or_unknown'].apply(convert_features_info_string_to_list)\n",
    "    att_index = feat_info.set_index('attribute')\n",
    "    df_with_nas=df[:]\n",
    "    for column in df_with_nas.columns:\n",
    "        #print('in column {}, replace {} with Nan'.format(  column , att_index.loc[column].loc['NA_tags']  )  )\n",
    "        df_with_nas[column].replace( att_index.loc[column].loc['NA_tags'], np.nan, inplace=True)\n",
    "        \n",
    "    # remove COLUMNS with too many NaNs\n",
    "    remove_columns = ['KBA05_BAUMAX','KK_KUNDENTYP','ALTER_HH','TITEL_KZ','GEBURTSJAHR','AGER_TYP']\n",
    "    df_with_nas.drop(labels=remove_columns,axis=1,inplace=True)\n",
    "    #removed these 6 columns that we dropped from the feat_info df, to avoid errors later in the analysis\n",
    "    feat_info = feat_info.set_index('attribute').drop( remove_columns ).reset_index()\n",
    "    nan_left_after_rem_topnan_cols=df_with_nas.isna().sum().sum()\n",
    "    print('After we remove Cols with too many NAs, we are left with : ' ,  nan_left_after_rem_topnan_cols )\n",
    "\n",
    "    # remove ROWS with ANY NaNs\n",
    "    df_with_nas['num_of_nas_byrow'] = df_with_nas.isna().sum(axis=1)\n",
    "    working_df = df_with_nas[  df_with_nas['num_of_nas_byrow']==0  ]\n",
    "    working_df.drop('num_of_nas_byrow', inplace=True, axis=1)\n",
    "\n",
    "    # select, re-encode, and engineer column values.\n",
    "    datatype_of_features={}\n",
    "    datatypes=['mixed','categorical','numeric','ordinal']\n",
    "    \n",
    "    for d in datatypes:\n",
    "        datatype_of_features[d]=feat_info[  feat_info['type']==d ]['attribute']\n",
    "        \n",
    "    # Split the categorical features into (i) Binary, (ii) Multi-level\n",
    "    categorical_cols_in_na_azdias=working_df[ datatype_of_features['categorical']]\n",
    "\n",
    "    multi_level_categorical=[]\n",
    "    binary_categorical=[]\n",
    "    \n",
    "    for column in categorical_cols_in_na_azdias.columns:\n",
    "        #get the current columns\n",
    "        curr_col=categorical_cols_in_na_azdias[column]\n",
    "        \n",
    "        #select and count the unique, non NA values\n",
    "        unique_values= curr_col[curr_col.notna()].unique()\n",
    "        count_unique_values= len( unique_values )\n",
    "        \n",
    "        if count_unique_values >2:\n",
    "            multi_level_categorical.append(column)\n",
    "        elif count_unique_values ==2:\n",
    "            binary_categorical.append(column)\n",
    "    \n",
    "        #I will ONE-HOT-ENCODE the following:\n",
    "        #1.\tthe categorical/binomial feature 'OST_WEST_KZ'\n",
    "        #2.\tall the categorical/multilevel features\n",
    "        # Re-encode categorical variable(s) to be kept in the analysis.\n",
    "        \n",
    "        #However first i will drop some multilevel features\n",
    "        remove_multilevel_cols= ['LP_FAMILIE_FEIN', 'ZABEOTYP', 'GEBAEUDETYP', 'LP_STATUS_FEIN', 'FINANZTYP' , 'SHOPPER_TYP' ,\n",
    "              'CAMEO_DEU_2015', 'LP_STATUS_GROB', 'CAMEO_DEUG_2015']\n",
    "        \n",
    "        working_df.drop(remove_multilevel_cols , axis=1 , inplace=True)\n",
    "\n",
    "        encode_these_features=[]\n",
    "        encode_these_features.append('OST_WEST_KZ')\n",
    "\n",
    "        #add the mixed\n",
    "        for col in azdias_datatype_of_features['mixed']:\n",
    "            encode_these_features.append(col)\n",
    "            \n",
    "        # add categorical/multi-level features\n",
    "        for col in multi_level_categorical:\n",
    "            encode_these_features.append(col)\n",
    "    \n",
    "        for i in  encode_these_features:\n",
    "            if   i =='PRAEGENDE_JUGENDJAHRE'    or  i =='CAMEO_INTL_2015'   :\n",
    "                encode_these_features.remove(i)   \n",
    "                \n",
    "        #perform one-hot-encoding\n",
    "        working_df = pd.get_dummies(working_df , columns=encode_these_features )   \n",
    " \n",
    "        # engineer MIXED TYPE features\n",
    "        # Investigate  and engineer two new variables.\n",
    "        # look at unique levels of feature 'PRAEGENDE_JUGENDJAHRE'\n",
    "        mainstream=[1,3,5,8,10,12,14]\n",
    "        avantgarde=[2,4,6,7,9,11,13,15]\n",
    "        movement=[]\n",
    "        decade=[]\n",
    "\n",
    "        for i in azdias_working_df['PRAEGENDE_JUGENDJAHRE']:\n",
    "            ' classify along the movement axis'\n",
    "            if i in mainstream:\n",
    "                movement.append(0)\n",
    "            elif i in avantgarde:\n",
    "                movement.append(1)\n",
    "        \n",
    "            if i in [1,2]:\n",
    "                decade.append(40)\n",
    "            elif i in [3,4]:\n",
    "                decade.append(50)\n",
    "            elif i in [5,6,7]:\n",
    "                decade.append(60)\n",
    "            elif i in [8,9]:\n",
    "                decade.append(70)\n",
    "            elif i in [10,11,12]:\n",
    "                decade.append(80)\n",
    "            elif i in [13,14,15]:\n",
    "                decade.append(90)\n",
    "            else:\n",
    "                decade.append(np.NaN)\n",
    "        \n",
    "        working_df['movement']=movement\n",
    "        working_df['decade']=decade    \n",
    "\n",
    "        #CAMEO_INTL_2015 takes values 11-55.  \n",
    "        #These values correspond to :  \n",
    "        #- Wealth  .... mapped by the 10s digit\n",
    "        #- Stage in life ..... mapped by the 1s digit\n",
    "        #Wealth :     [10,20,30,40,50] ----> [1-5 scale]\n",
    "        #Life Stage:  [1,2,3,4,5]. --->         [1-5 scale]\n",
    "\n",
    "        # Investigate \"CAMEO_INTL_2015\" and engineer two new variables.\n",
    "        # look at unique levels of feature 'CAMEO_INTL_2015'\n",
    " \n",
    "        wealth=[]\n",
    "        life_stage=[]\n",
    "        \n",
    "        for i in working_df['CAMEO_INTL_2015'] :\n",
    "            ones=int(i) % 10\n",
    "            tens = int( i) - ones\n",
    "             \n",
    "            if 10<=tens<=19:\n",
    "                wealth.append(5)\n",
    "            elif 20<=tens<=29:\n",
    "                wealth.append(4)\n",
    "            elif 30<=tens<=39:\n",
    "                wealth.append(3)\n",
    "            elif 40<=tens<=49:\n",
    "                wealth.append(2)\n",
    "            elif 50<=tens<=59:\n",
    "                wealth.append(1)\n",
    "            else:\n",
    "                wealth.append(np.NaN)\n",
    "                \n",
    "            life_stage.append(ones)\n",
    "            \n",
    "        working_df['wealth']=wealth\n",
    "        working_df['life_stage']=life_stage\n",
    "        \n",
    "        azdias_working_df.drop( ['CAMEO_INTL_2015','PRAEGENDE_JUGENDJAHRE'] , axis=1 , inplace=True)\n",
    "\n",
    "        # Return the cleaned dataframe.\n",
    "        return(working_df)\n",
    "    "
   ]
  },
  {
   "cell_type": "code",
   "execution_count": null,
   "metadata": {},
   "outputs": [],
   "source": [
    "#azdias_clean=clean_data(azdias)\n",
    "#azdias_clean.head()"
   ]
  },
  {
   "cell_type": "markdown",
   "metadata": {},
   "source": [
    "## Step 2: Feature Transformation\n",
    "\n",
    "### Step 2.1: Apply Feature Scaling\n",
    "\n",
    "Before we apply dimensionality reduction techniques to the data, we need to perform feature scaling so that the principal component vectors are not influenced by the natural differences in scale for features. Starting from this part of the project, you'll want to keep an eye on the [API reference page for sklearn](http://scikit-learn.org/stable/modules/classes.html) to help you navigate to all of the classes and functions that you'll need. In this substep, you'll need to check the following:\n",
    "\n",
    "- sklearn requires that data not have missing values in order for its estimators to work properly. So, before applying the scaler to your data, make sure that you've cleaned the DataFrame of the remaining missing values. This can be as simple as just removing all data points with missing data, or applying an [Imputer](http://scikit-learn.org/stable/modules/generated/sklearn.preprocessing.Imputer.html) to replace all missing values. You might also try a more complicated procedure where you temporarily remove missing values in order to compute the scaling parameters before re-introducing those missing values and applying imputation. Think about how much missing data you have and what possible effects each approach might have on your analysis, and justify your decision in the discussion section below.\n",
    "- For the actual scaling function, a [StandardScaler](http://scikit-learn.org/stable/modules/generated/sklearn.preprocessing.StandardScaler.html) instance is suggested, scaling each feature to mean 0 and standard deviation 1.\n",
    "- For these classes, you can make use of the `.fit_transform()` method to both fit a procedure to the data as well as apply the transformation to the data at the same time. Don't forget to keep the fit sklearn objects handy, since you'll be applying them to the customer demographics data towards the end of the project."
   ]
  },
  {
   "cell_type": "code",
   "execution_count": null,
   "metadata": {},
   "outputs": [],
   "source": [
    "# If you've not yet cleaned the dataset of all NaN values, then investigate and\n",
    "# do that now.\n",
    "\n"
   ]
  },
  {
   "cell_type": "code",
   "execution_count": null,
   "metadata": {},
   "outputs": [],
   "source": [
    "# Apply feature scaling to the general population demographics data.\n",
    "\n",
    "scaler = StandardScaler()\n",
    "adzias_final_not_standardized=azdias_working_df\n",
    "adzias_final_standardized=scaler.fit_transform(adzias_final_not_standardized)\n"
   ]
  },
  {
   "cell_type": "code",
   "execution_count": null,
   "metadata": {},
   "outputs": [],
   "source": []
  },
  {
   "cell_type": "markdown",
   "metadata": {},
   "source": [
    "### Discussion 2.1: Apply Feature Scaling\n",
    "\n",
    "1. In previous stages I already removed all rows with NaN (as i do not have insight in the data that would allow me to select proper imputation.  Furthermore, i do not like using Median or Mean for imputation..\n",
    "\n",
    "2.  I apply StandardScaler to standardize my data set\n"
   ]
  },
  {
   "cell_type": "markdown",
   "metadata": {},
   "source": [
    "### Step 2.2: Perform Dimensionality Reduction\n",
    "\n",
    "On your scaled data, you are now ready to apply dimensionality reduction techniques.\n",
    "\n",
    "- Use sklearn's [PCA](http://scikit-learn.org/stable/modules/generated/sklearn.decomposition.PCA.html) class to apply principal component analysis on the data, thus finding the vectors of maximal variance in the data. To start, you should not set any parameters (so all components are computed) or set a number of components that is at least half the number of features (so there's enough features to see the general trend in variability).\n",
    "- Check out the ratio of variance explained by each principal component as well as the cumulative variance explained. Try plotting the cumulative or sequential values using matplotlib's [`plot()`](https://matplotlib.org/api/_as_gen/matplotlib.pyplot.plot.html) function. Based on what you find, select a value for the number of transformed features you'll retain for the clustering part of the project.\n",
    "- Once you've made a choice for the number of components to keep, make sure you re-fit a PCA instance to perform the decided-on transformation."
   ]
  },
  {
   "cell_type": "code",
   "execution_count": null,
   "metadata": {},
   "outputs": [],
   "source": [
    "# Apply PCA to the data.\n",
    "pca_all=PCA(80)\n",
    "pca_all.fit(adzias_final_standardized)\n"
   ]
  },
  {
   "cell_type": "code",
   "execution_count": null,
   "metadata": {
    "scrolled": true
   },
   "outputs": [],
   "source": [
    "def plot_principal_components(pca_fitted_model , max_components , plot_what):\n",
    "    x=np.arange(0,max_components)\n",
    "    variance_explained_by_comp_i = pca_fitted_model.explained_variance_ratio_[ : max_components]\n",
    "    cumul_variance=np.cumsum(variance_explained_by_comp_i)\n",
    "    \n",
    "    if plot_what=='incremental':\n",
    "        y=variance_explained_by_comp_i\n",
    "    elif plot_what=='cumulative':\n",
    "        y=cumul_variance\n",
    "    else:\n",
    "        print('wrong _plot_what_ argument')\n",
    "            \n",
    "    plt.bar(x , y)\n",
    "    \n",
    "    plt.xlabel('Principal Component(i)')\n",
    "    plt.ylabel('Variance')\n",
    "    plt.title(plot_what+' Variance')\n"
   ]
  },
  {
   "cell_type": "code",
   "execution_count": null,
   "metadata": {},
   "outputs": [],
   "source": [
    "# Re-apply PCA to the data while selecting for number of components to retain.\n",
    "# Apply PCA to the data.\n",
    "max_components=30\n",
    "pca=PCA(30)\n",
    "pca.fit(adzias_final_standardized)\n",
    "\n",
    "plot_principal_components( pca , max_components, 'incremental')\n"
   ]
  },
  {
   "cell_type": "code",
   "execution_count": null,
   "metadata": {},
   "outputs": [],
   "source": [
    "plot_principal_components( pca , max_components, 'cumulative')\n"
   ]
  },
  {
   "cell_type": "markdown",
   "metadata": {},
   "source": [
    "Decided to keep 30 features as they explain approx 60% of total variance"
   ]
  },
  {
   "cell_type": "markdown",
   "metadata": {},
   "source": [
    "### Discussion 2.2: Perform Dimensionality Reduction\n",
    "I decided to choose 30 Principal Components.  Even though they explain only roughly 30% of the total variance, i feel that any model with as many features aleady lacks interpretability.\n",
    "Whenever i use PCA in my work, to explain the drivers of financial markets, typically i choose only 5 components.\n",
    "\n"
   ]
  },
  {
   "cell_type": "markdown",
   "metadata": {},
   "source": [
    "### Step 2.3: Interpret Principal Components\n",
    "\n",
    "Now that we have our transformed principal components, it's a nice idea to check out the **weight of each variable on the first few components** to see if they can be interpreted in some fashion.\n",
    "\n",
    "As a reminder, each principal component is a unit vector that points in the direction of highest variance (after accounting for the variance captured by earlier principal components). The further a weight is from zero, the more the principal component is in the direction of the corresponding feature. If two features have large weights of the same sign (both positive or both negative), then increases in one tend expect to be associated with increases in the other. To contrast, features with different signs can be expected to show a negative correlation: increases in one variable should result in a decrease in the other.\n",
    "\n",
    "- To investigate the features, you should map each weight to their corresponding feature name, then sort the features according to weight. The most interesting features for each principal component, then, will be those at the beginning and end of the sorted list. Use the data dictionary document to help you understand these most prominent features, their relationships, and what a positive or negative value on the principal component might indicate.\n",
    "- You should investigate and interpret feature associations from the first three principal components in this substep. To help facilitate this, you should write a function that you can call at any time to print the sorted list of feature weights, for the *i*-th principal component. This might come in handy in the next step of the project, when you interpret the tendencies of the discovered clusters."
   ]
  },
  {
   "cell_type": "code",
   "execution_count": null,
   "metadata": {},
   "outputs": [],
   "source": [
    "# Map weights for the first principal component to corresponding feature names\n",
    "# and then print the linked values, sorted by weight.\n",
    "# HINT: Try defining a function here or in a new cell that you can reuse in the\n",
    "# other cells.\n",
    "\n",
    "pca_results adzias_final_standardized"
   ]
  },
  {
   "cell_type": "code",
   "execution_count": null,
   "metadata": {},
   "outputs": [],
   "source": [
    "# Map weights for the second principal component to corresponding feature names\n",
    "# and then print the linked values, sorted by weight.\n",
    "\n"
   ]
  },
  {
   "cell_type": "code",
   "execution_count": null,
   "metadata": {},
   "outputs": [],
   "source": [
    "# Map weights for the third principal component to corresponding feature names\n",
    "# and then print the linked values, sorted by weight.\n",
    "\n"
   ]
  },
  {
   "cell_type": "markdown",
   "metadata": {},
   "source": [
    "### Discussion 2.3: Interpret Principal Components\n",
    "\n",
    "(Double-click this cell and replace this text with your own text, reporting your observations from detailed investigation of the first few principal components generated. Can we interpret positive and negative values from them in a meaningful way?)"
   ]
  },
  {
   "cell_type": "markdown",
   "metadata": {},
   "source": [
    "## Step 3: Clustering\n",
    "\n",
    "### Step 3.1: Apply Clustering to General Population\n",
    "\n",
    "You've assessed and cleaned the demographics data, then scaled and transformed them. Now, it's time to see how the data clusters in the principal components space. In this substep, you will apply k-means clustering to the dataset and use the average within-cluster distances from each point to their assigned cluster's centroid to decide on a number of clusters to keep.\n",
    "\n",
    "- Use sklearn's [KMeans](http://scikit-learn.org/stable/modules/generated/sklearn.cluster.KMeans.html#sklearn.cluster.KMeans) class to perform k-means clustering on the PCA-transformed data.\n",
    "- Then, compute the average difference from each point to its assigned cluster's center. **Hint**: The KMeans object's `.score()` method might be useful here, but note that in sklearn, scores tend to be defined so that larger is better. Try applying it to a small, toy dataset, or use an internet search to help your understanding.\n",
    "- Perform the above two steps for a number of different cluster counts. You can then see how the average distance decreases with an increasing number of clusters. However, each additional cluster provides a smaller net benefit. Use this fact to select a final number of clusters in which to group the data. **Warning**: because of the large size of the dataset, it can take a long time for the algorithm to resolve. The more clusters to fit, the longer the algorithm will take. You should test for cluster counts through at least 10 clusters to get the full picture, but you shouldn't need to test for a number of clusters above about 30.\n",
    "- Once you've selected a final number of clusters to use, re-fit a KMeans instance to perform the clustering operation. Make sure that you also obtain the cluster assignments for the general demographics data, since you'll be using them in the final Step 3.3."
   ]
  },
  {
   "cell_type": "code",
   "execution_count": null,
   "metadata": {},
   "outputs": [],
   "source": [
    "# Over a number of different cluster counts...\n",
    "\n",
    "\n",
    "    # run k-means clustering on the data and...\n",
    "    \n",
    "    \n",
    "    # compute the average within-cluster distances.\n",
    "    \n",
    "    "
   ]
  },
  {
   "cell_type": "code",
   "execution_count": null,
   "metadata": {},
   "outputs": [],
   "source": [
    "# Investigate the change in within-cluster distance across number of clusters.\n",
    "# HINT: Use matplotlib's plot function to visualize this relationship.\n",
    "\n"
   ]
  },
  {
   "cell_type": "code",
   "execution_count": null,
   "metadata": {},
   "outputs": [],
   "source": [
    "# Re-fit the k-means model with the selected number of clusters and obtain\n",
    "# cluster predictions for the general population demographics data.\n",
    "\n"
   ]
  },
  {
   "cell_type": "markdown",
   "metadata": {},
   "source": [
    "### Discussion 3.1: Apply Clustering to General Population\n",
    "\n",
    "(Double-click this cell and replace this text with your own text, reporting your findings and decisions regarding clustering. Into how many clusters have you decided to segment the population?)"
   ]
  },
  {
   "cell_type": "markdown",
   "metadata": {},
   "source": [
    "### Step 3.2: Apply All Steps to the Customer Data\n",
    "\n",
    "Now that you have clusters and cluster centers for the general population, it's time to see how the customer data maps on to those clusters. Take care to not confuse this for re-fitting all of the models to the customer data. Instead, you're going to use the fits from the general population to clean, transform, and cluster the customer data. In the last step of the project, you will interpret how the general population fits apply to the customer data.\n",
    "\n",
    "- Don't forget when loading in the customers data, that it is semicolon (`;`) delimited.\n",
    "- Apply the same feature wrangling, selection, and engineering steps to the customer demographics using the `clean_data()` function you created earlier. (You can assume that the customer demographics data has similar meaning behind missing data patterns as the general demographics data.)\n",
    "- Use the sklearn objects from the general demographics data, and apply their transformations to the customers data. That is, you should not be using a `.fit()` or `.fit_transform()` method to re-fit the old objects, nor should you be creating new sklearn objects! Carry the data through the feature scaling, PCA, and clustering steps, obtaining cluster assignments for all of the data in the customer demographics data."
   ]
  },
  {
   "cell_type": "code",
   "execution_count": null,
   "metadata": {},
   "outputs": [],
   "source": [
    "# Load in the customer demographics data.\n",
    "customers = "
   ]
  },
  {
   "cell_type": "code",
   "execution_count": null,
   "metadata": {},
   "outputs": [],
   "source": [
    "# Apply preprocessing, feature transformation, and clustering from the general\n",
    "# demographics onto the customer data, obtaining cluster predictions for the\n",
    "# customer demographics data.\n",
    "\n"
   ]
  },
  {
   "cell_type": "markdown",
   "metadata": {},
   "source": [
    "### Step 3.3: Compare Customer Data to Demographics Data\n",
    "\n",
    "At this point, you have clustered data based on demographics of the general population of Germany, and seen how the customer data for a mail-order sales company maps onto those demographic clusters. In this final substep, you will compare the two cluster distributions to see where the strongest customer base for the company is.\n",
    "\n",
    "Consider the proportion of persons in each cluster for the general population, and the proportions for the customers. If we think the company's customer base to be universal, then the cluster assignment proportions should be fairly similar between the two. If there are only particular segments of the population that are interested in the company's products, then we should see a mismatch from one to the other. If there is a higher proportion of persons in a cluster for the customer data compared to the general population (e.g. 5% of persons are assigned to a cluster for the general population, but 15% of the customer data is closest to that cluster's centroid) then that suggests the people in that cluster to be a target audience for the company. On the other hand, the proportion of the data in a cluster being larger in the general population than the customer data (e.g. only 2% of customers closest to a population centroid that captures 6% of the data) suggests that group of persons to be outside of the target demographics.\n",
    "\n",
    "Take a look at the following points in this step:\n",
    "\n",
    "- Compute the proportion of data points in each cluster for the general population and the customer data. Visualizations will be useful here: both for the individual dataset proportions, but also to visualize the ratios in cluster representation between groups. Seaborn's [`countplot()`](https://seaborn.pydata.org/generated/seaborn.countplot.html) or [`barplot()`](https://seaborn.pydata.org/generated/seaborn.barplot.html) function could be handy.\n",
    "  - Recall the analysis you performed in step 1.1.3 of the project, where you separated out certain data points from the dataset if they had more than a specified threshold of missing values. If you found that this group was qualitatively different from the main bulk of the data, you should treat this as an additional data cluster in this analysis. Make sure that you account for the number of data points in this subset, for both the general population and customer datasets, when making your computations!\n",
    "- Which cluster or clusters are overrepresented in the customer dataset compared to the general population? Select at least one such cluster and infer what kind of people might be represented by that cluster. Use the principal component interpretations from step 2.3 or look at additional components to help you make this inference. Alternatively, you can use the `.inverse_transform()` method of the PCA and StandardScaler objects to transform centroids back to the original data space and interpret the retrieved values directly.\n",
    "- Perform a similar investigation for the underrepresented clusters. Which cluster or clusters are underrepresented in the customer dataset compared to the general population, and what kinds of people are typified by these clusters?"
   ]
  },
  {
   "cell_type": "code",
   "execution_count": null,
   "metadata": {},
   "outputs": [],
   "source": [
    "# Compare the proportion of data in each cluster for the customer data to the\n",
    "# proportion of data in each cluster for the general population.\n",
    "\n"
   ]
  },
  {
   "cell_type": "code",
   "execution_count": null,
   "metadata": {},
   "outputs": [],
   "source": [
    "# What kinds of people are part of a cluster that is overrepresented in the\n",
    "# customer data compared to the general population?\n",
    "\n"
   ]
  },
  {
   "cell_type": "code",
   "execution_count": null,
   "metadata": {},
   "outputs": [],
   "source": [
    "# What kinds of people are part of a cluster that is underrepresented in the\n",
    "# customer data compared to the general population?\n",
    "\n"
   ]
  },
  {
   "cell_type": "markdown",
   "metadata": {},
   "source": [
    "### Discussion 3.3: Compare Customer Data to Demographics Data\n",
    "\n",
    "(Double-click this cell and replace this text with your own text, reporting findings and conclusions from the clustering analysis. Can we describe segments of the population that are relatively popular with the mail-order company, or relatively unpopular with the company?)"
   ]
  },
  {
   "cell_type": "markdown",
   "metadata": {},
   "source": [
    "> Congratulations on making it this far in the project! Before you finish, make sure to check through the entire notebook from top to bottom to make sure that your analysis follows a logical flow and all of your findings are documented in **Discussion** cells. Once you've checked over all of your work, you should export the notebook as an HTML document to submit for evaluation. You can do this from the menu, navigating to **File -> Download as -> HTML (.html)**. You will submit both that document and this notebook for your project submission."
   ]
  },
  {
   "cell_type": "code",
   "execution_count": null,
   "metadata": {},
   "outputs": [],
   "source": []
  }
 ],
 "metadata": {
  "kernelspec": {
   "display_name": "Python 3",
   "language": "python",
   "name": "python3"
  },
  "language_info": {
   "codemirror_mode": {
    "name": "ipython",
    "version": 3
   },
   "file_extension": ".py",
   "mimetype": "text/x-python",
   "name": "python",
   "nbconvert_exporter": "python",
   "pygments_lexer": "ipython3",
   "version": "3.6.3"
  }
 },
 "nbformat": 4,
 "nbformat_minor": 2
}
